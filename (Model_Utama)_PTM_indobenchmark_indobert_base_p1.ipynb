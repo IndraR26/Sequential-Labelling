{
  "cells": [
    {
      "cell_type": "markdown",
      "source": [
        "# Project Pengantar Text Mining \"Sequential Labelling For Sentiment Extraction in Tokopedia's Customer Review with IndoBERT\""
      ],
      "metadata": {
        "id": "rD5uA6FGy8Kg"
      }
    },
    {
      "cell_type": "markdown",
      "metadata": {
        "id": "Hq4rTsCgyWE2"
      },
      "source": [
        "Kelompok 3\n",
        "\n",
        "Nama Anggota :\n",
        "1. Dionisius Indra Raditya (M0721019)\n",
        "2. Erin Jihan Wahyu Kusuma (M0721024)\n",
        "3. Muhammad Rifai (M0721047)\n",
        "4. Pramesthi Kartika Siwi Hapsari (M0721058)\n",
        "5. Siti A'isyah (M0721064)\n"
      ]
    },
    {
      "cell_type": "markdown",
      "source": [
        "# Load Dataset"
      ],
      "metadata": {
        "id": "uSJLc_GqglDT"
      }
    },
    {
      "cell_type": "code",
      "source": [
        "!pip install gdown\n",
        "import gdown\n",
        "\n",
        "url = 'https://drive.google.com/uc?id=1Lc5ouWdu1AwGiVog2gQy70Y8U57Fmq8x'\n",
        "output = 'PRDECT-ID Dataset.csv'\n",
        "gdown.download(url, output, quiet=False)"
      ],
      "metadata": {
        "colab": {
          "base_uri": "https://localhost:8080/",
          "height": 296
        },
        "id": "lj76tswybo4J",
        "outputId": "bf13f4cb-0f7c-4e0b-ed4f-654fe0a73699"
      },
      "execution_count": null,
      "outputs": [
        {
          "output_type": "stream",
          "name": "stdout",
          "text": [
            "Requirement already satisfied: gdown in /usr/local/lib/python3.10/dist-packages (5.2.0)\n",
            "Requirement already satisfied: beautifulsoup4 in /usr/local/lib/python3.10/dist-packages (from gdown) (4.12.3)\n",
            "Requirement already satisfied: filelock in /usr/local/lib/python3.10/dist-packages (from gdown) (3.16.1)\n",
            "Requirement already satisfied: requests[socks] in /usr/local/lib/python3.10/dist-packages (from gdown) (2.32.3)\n",
            "Requirement already satisfied: tqdm in /usr/local/lib/python3.10/dist-packages (from gdown) (4.67.1)\n",
            "Requirement already satisfied: soupsieve>1.2 in /usr/local/lib/python3.10/dist-packages (from beautifulsoup4->gdown) (2.6)\n",
            "Requirement already satisfied: charset-normalizer<4,>=2 in /usr/local/lib/python3.10/dist-packages (from requests[socks]->gdown) (3.4.0)\n",
            "Requirement already satisfied: idna<4,>=2.5 in /usr/local/lib/python3.10/dist-packages (from requests[socks]->gdown) (3.10)\n",
            "Requirement already satisfied: urllib3<3,>=1.21.1 in /usr/local/lib/python3.10/dist-packages (from requests[socks]->gdown) (2.2.3)\n",
            "Requirement already satisfied: certifi>=2017.4.17 in /usr/local/lib/python3.10/dist-packages (from requests[socks]->gdown) (2024.12.14)\n",
            "Requirement already satisfied: PySocks!=1.5.7,>=1.5.6 in /usr/local/lib/python3.10/dist-packages (from requests[socks]->gdown) (1.7.1)\n"
          ]
        },
        {
          "output_type": "stream",
          "name": "stderr",
          "text": [
            "Downloading...\n",
            "From: https://drive.google.com/uc?id=1Lc5ouWdu1AwGiVog2gQy70Y8U57Fmq8x\n",
            "To: /content/PRDECT-ID Dataset.csv\n",
            "100%|██████████| 1.26M/1.26M [00:00<00:00, 17.8MB/s]\n"
          ]
        },
        {
          "output_type": "execute_result",
          "data": {
            "text/plain": [
              "'PRDECT-ID Dataset.csv'"
            ],
            "application/vnd.google.colaboratory.intrinsic+json": {
              "type": "string"
            }
          },
          "metadata": {},
          "execution_count": 1
        }
      ]
    },
    {
      "cell_type": "markdown",
      "source": [
        "# Text Prepocessing"
      ],
      "metadata": {
        "id": "vwVeqLgDFfT-"
      }
    },
    {
      "cell_type": "code",
      "source": [
        "!pip install sastrawi"
      ],
      "metadata": {
        "id": "DhgQx9_ZFky6",
        "colab": {
          "base_uri": "https://localhost:8080/"
        },
        "outputId": "bf4d4fe8-d8e9-422d-e924-27cb1bae8663"
      },
      "execution_count": null,
      "outputs": [
        {
          "output_type": "stream",
          "name": "stdout",
          "text": [
            "Collecting sastrawi\n",
            "  Downloading Sastrawi-1.0.1-py2.py3-none-any.whl.metadata (909 bytes)\n",
            "Downloading Sastrawi-1.0.1-py2.py3-none-any.whl (209 kB)\n",
            "\u001b[?25l   \u001b[90m━━━━━━━━━━━━━━━━━━━━━━━━━━━━━━━━━━━━━━━━\u001b[0m \u001b[32m0.0/209.7 kB\u001b[0m \u001b[31m?\u001b[0m eta \u001b[36m-:--:--\u001b[0m\r\u001b[2K   \u001b[90m━━━━━━━━━━━━━━━━━━━━━━━━━━━━━━━━━━━━━━━━\u001b[0m \u001b[32m209.7/209.7 kB\u001b[0m \u001b[31m7.1 MB/s\u001b[0m eta \u001b[36m0:00:00\u001b[0m\n",
            "\u001b[?25hInstalling collected packages: sastrawi\n",
            "Successfully installed sastrawi-1.0.1\n"
          ]
        }
      ]
    },
    {
      "cell_type": "code",
      "source": [
        "import pandas as pd\n",
        "import nltk\n",
        "import re\n",
        "import string\n",
        "from Sastrawi.Stemmer.StemmerFactory import StemmerFactory\n",
        "from nltk.corpus import stopwords\n",
        "from nltk.stem import WordNetLemmatizer\n",
        "\n",
        "# Unduh resource NLTK jika belum ada\n",
        "nltk.download('punkt', force=True)\n",
        "nltk.download('stopwords', force=True)\n",
        "nltk.download('wordnet', force=True)\n",
        "\n",
        "# Inisialisasi lemmatizer\n",
        "lemmatizer = WordNetLemmatizer()\n",
        "\n",
        "# Kamus slang dan typo untuk normalisasi\n",
        "slang_to_baku = {'yg': 'yang', 'ga': 'tidak', 'gak': 'tidak', 'gk': 'tidak', 'tdk': 'tidak',\n",
        "    'dlm': 'dalam', 'sm': 'sama', 'klo': 'kalau', 'aja': 'saja', 'dr': 'dari',\n",
        "    'trs': 'terus', 'tp': 'tapi', 'udh': 'sudah', 'jg': 'juga', 'blm': 'belum',\n",
        "    'sy': 'saya', 'aku': 'saya', 'km': 'kamu', 'lg': 'lagi', 'bnr': 'benar',\n",
        "    'bs': 'bisa', 'hrs': 'harus', 'msh': 'masih', 'org': 'orang', 'skrg': 'sekarang',\n",
        "    'ny': 'nya', 'knp': 'kenapa', 'gmna': 'bagaimana', 'pdhl': 'padahal',\n",
        "    'smg': 'semoga', 'krn': 'karena', 'mlh': 'malah', 'ntr': 'nanti', 'sdh': 'sudah',\n",
        "    'bgmn': 'bagaimana', 'tlg': 'tolong', 'banget': 'sangat', 'mau': 'ingin',\n",
        "    'kasih': 'beri', 'seler': 'penjual', 'makasih': 'terima kasih',\n",
        "    'btw': 'ngomong-ngomong', 'brg': 'barang', 'jd': 'jadi', 'bgt': 'sangat',\n",
        "    'dmn': 'di mana', 'nggak': 'tidak', 'ajaib': 'menakjubkan', 'amanah': 'dapat dipercaya',\n",
        "    'pokoknya': 'intinya', 'keren': 'luar biasa', 'mantap': 'hebat', 'ajib': 'menakjubkan',\n",
        "    'kece': 'menarik', 'cuan': 'keuntungan', 'ribet': 'rumit', 'copot': 'terlepas',\n",
        "    'lapor': 'melapor', 'cepet': 'cepat', 'capek': 'lelah', 'sblm': 'sebelum',\n",
        "    'trm': 'terima', 'gampang': 'mudah', 'lumayan': 'cukup', 'ane': 'saya',\n",
        "    'agan': 'bapak/ibu', 'gt': 'gitu', 'dng': 'dengan', 'trimakasih': 'terima kasih',\n",
        "    'gmn': 'bagaimana', 'udah': 'sudah', 'jir': 'anjir', 'janggan': 'jangan',\n",
        "    'ama': 'sama', 'bosok': 'busuk', 'hadeuhh': 'aduh'\n",
        "}\n",
        "\n",
        "# Fungsi untuk mengganti slang atau typo\n",
        "def ubah_slang(text):\n",
        "    words = text.split()\n",
        "    processed_words = [slang_to_baku.get(word, word) for word in words]\n",
        "    return ' '.join(processed_words)\n",
        "\n",
        "# Fungsi untuk tokenisasi\n",
        "def tokenize_text(text):\n",
        "    return re.findall(r'\\b\\w+\\b', text)\n",
        "\n",
        "# Fungsi preprocessing lengkap\n",
        "def preprocess_review(text):\n",
        "    # 1. Lowercasing\n",
        "    text = text.lower()\n",
        "    # 2. Normalisasi slang/typo ke kata baku\n",
        "    text = ubah_slang(text)\n",
        "    # 3. Menghapus tanda baca\n",
        "    text = text.translate(str.maketrans('', '', string.punctuation))\n",
        "    # 4. Tokenisasi\n",
        "    tokens = tokenize_text(text)\n",
        "    # 5. Lemmatization (mengganti stemming dengan lemmatization)\n",
        "    lemmatized_tokens = [lemmatizer.lemmatize(word) for word in tokens]\n",
        "    # Gabungkan kembali menjadi teks\n",
        "    return ' '.join(lemmatized_tokens)\n",
        "\n",
        "# Load data dari file CSV\n",
        "file_path = 'PRDECT-ID Dataset.csv'\n",
        "df = pd.read_csv(file_path)\n",
        "\n",
        "# Terapkan preprocessing ke kolom 'Customer Review'\n",
        "df['Processed Review'] = df['Customer Review'].apply(preprocess_review)\n",
        "\n",
        "# Tampilkan hasil\n",
        "print(df[['Customer Review', 'Processed Review']].head())\n",
        "\n",
        "# Simpan hasil ke file baru (opsional)\n",
        "output_path = 'Processed_PRDECT_ID_Dataset.csv'\n",
        "df.to_csv(output_path, index=False)\n",
        "print(f\"Processed data saved to {output_path}\")"
      ],
      "metadata": {
        "id": "Xfe6hEypFZTe",
        "colab": {
          "base_uri": "https://localhost:8080/"
        },
        "outputId": "10bb433d-de5c-4f25-8082-43ad03205db7"
      },
      "execution_count": null,
      "outputs": [
        {
          "output_type": "stream",
          "name": "stderr",
          "text": [
            "[nltk_data] Downloading package punkt to /root/nltk_data...\n",
            "[nltk_data]   Unzipping tokenizers/punkt.zip.\n",
            "[nltk_data] Downloading package stopwords to /root/nltk_data...\n",
            "[nltk_data]   Unzipping corpora/stopwords.zip.\n",
            "[nltk_data] Downloading package wordnet to /root/nltk_data...\n"
          ]
        },
        {
          "output_type": "stream",
          "name": "stdout",
          "text": [
            "                                     Customer Review  \\\n",
            "0  Alhamdulillah berfungsi dengan baik. Packaging...   \n",
            "1  barang bagus dan respon cepat, harga bersaing ...   \n",
            "2  barang bagus, berfungsi dengan baik, seler ram...   \n",
            "3  bagus sesuai harapan penjual nya juga ramah. t...   \n",
            "4  Barang Bagus, pengemasan Aman, dapat Berfungsi...   \n",
            "\n",
            "                                    Processed Review  \n",
            "0  alhamdulillah berfungsi dengan baik packaging ...  \n",
            "1  barang bagus dan respon cepat harga bersaing d...  \n",
            "2  barang bagus berfungsi dengan baik penjual ram...  \n",
            "3  bagus sesuai harapan penjual nya juga ramah te...  \n",
            "4  barang bagus pengemasan aman dapat berfungsi d...  \n",
            "Processed data saved to Processed_PRDECT_ID_Dataset.csv\n"
          ]
        }
      ]
    },
    {
      "cell_type": "markdown",
      "metadata": {
        "id": "wRAmRwRVPhq5"
      },
      "source": [
        "# EDA (Exploratory Data Analysis)"
      ]
    },
    {
      "cell_type": "code",
      "source": [
        "from nltk.corpus import stopwords\n",
        "import matplotlib.pyplot as plt\n",
        "import seaborn as sns\n",
        "import pandas as pd\n",
        "from wordcloud import WordCloud, STOPWORDS\n",
        "from Sastrawi.StopWordRemover.StopWordRemoverFactory import StopWordRemoverFactory\n",
        "import nltk\n",
        "\n",
        "# Download resource NLTK jika diperlukan\n",
        "nltk.download('stopwords', force=True)\n",
        "\n",
        "# Inisialisasi stopwords\n",
        "stop_words = set(stopwords.words('indonesian'))\n",
        "\n",
        "# Baca dataset\n",
        "file_path = 'Processed_PRDECT_ID_Dataset.csv'\n",
        "df = pd.read_csv(file_path)\n",
        "\n",
        "# Plot distribusi label emosi\n",
        "if 'Emotion' in df.columns:\n",
        "    plt.figure(figsize=(10, 6))\n",
        "    sns.countplot(data=df, x='Emotion')\n",
        "    plt.title('Distribusi Label Emosi')\n",
        "    plt.xticks(rotation=45)\n",
        "    plt.show()\n",
        "\n",
        "# Distribution of Ratings and Sentiments\n",
        "if 'Overall Rating' in df.columns and 'Sentiment' in df.columns:\n",
        "    plt.figure(figsize=(10, 6))\n",
        "    sns.countplot(x='Overall Rating', hue='Sentiment', data=df)\n",
        "    plt.title('Distribution of Ratings and Sentiments', fontsize=15, fontweight='bold', color='darkred')\n",
        "    plt.show()\n",
        "\n",
        "# Analisis Frekuensi Kata dengan Stopwords\n",
        "if 'Processed Review' in df.columns:\n",
        "    # Gabungkan semua ulasan menjadi satu string\n",
        "    reviews = ' '.join(df['Processed Review'].fillna('Unknown'))\n",
        "\n",
        "    # Filter kata-kata yang bukan stopwords\n",
        "    filtered_words = ' '.join([word for word in reviews.split() if word.lower() not in stop_words])\n",
        "\n",
        "    # Buat WordCloud\n",
        "    wordcloud = WordCloud(width=800, height=400, background_color='white').generate(filtered_words)\n",
        "\n",
        "    # Tampilkan WordCloud\n",
        "    plt.figure(figsize=(10, 6))\n",
        "    plt.imshow(wordcloud, interpolation='bilinear')\n",
        "    plt.axis('off')\n",
        "    plt.title('Word Frequency Analysis (Without Stopwords)', fontsize=15, fontweight='bold', color='darkred')\n",
        "    plt.savefig('Word_Frequency_Analysis.png')\n",
        "    plt.show()"
      ],
      "metadata": {
        "colab": {
          "base_uri": "https://localhost:8080/",
          "height": 1000
        },
        "id": "UxqrjcE6tSpo",
        "outputId": "015d0976-5d77-4e91-b423-971774a93c24"
      },
      "execution_count": null,
      "outputs": [
        {
          "output_type": "stream",
          "name": "stderr",
          "text": [
            "[nltk_data] Downloading package stopwords to /root/nltk_data...\n",
            "[nltk_data]   Unzipping corpora/stopwords.zip.\n"
          ]
        },
        {
          "output_type": "display_data",
          "data": {
            "text/plain": [
              "<Figure size 1000x600 with 1 Axes>"
            ],
            "image/png": "[encoded data removed]"
          },
          "metadata": {}
        },
        {
          "output_type": "display_data",
          "data": {
            "text/plain": [
              "<Figure size 1000x600 with 1 Axes>"
            ],
            "image/png": "[encoded data removed]"
          },
          "metadata": {}
        },
        {
          "output_type": "display_data",
          "data": {
            "text/plain": [
              "<Figure size 1000x600 with 1 Axes>"
            ],
            "image/png": "[encoded data removed]"
          },
          "metadata": {}
        }
      ]
    },
    {
      "cell_type": "markdown",
      "metadata": {
        "id": "fFZs2lC2GtkE"
      },
      "source": [
        "# Pelabelan BIO (Begin - Inside - Out)"
      ]
    },
    {
      "cell_type": "code",
      "execution_count": null,
      "metadata": {
        "id": "33rN5o77BkA4",
        "colab": {
          "base_uri": "https://localhost:8080/",
          "height": 837,
          "referenced_widgets": [
            "2d9509b621d247f5ac04f7681b0fd908",
            "4317a43dc38247bfa7ae70cf2c20c61d",
            "aa29cafb1eda4b088da9fade90057856",
            "279167c16532467196115f6f88d14881",
            "2a5ed2b48c1a406695a7d1aa52975042",
            "c13d84d89b8a4adea3fd0c516eae8940",
            "ef478d4629c24af793e5774e916dea76",
            "28b8543b2daa4460bedcdbd7fec42c42",
            "b0af1e015a07499ba0c23c46d67bbc13",
            "e370d2b3035c49e98f52cc780e0530a3",
            "e99a48a502114f78b5ddc9b74f610296",
            "3b50253ef74541ae8c5b35614d98e65b",
            "b02d383f04b94062a98c0c09d65abd04",
            "3701cd96961d4def83ae27113ddcf110",
            "d15d79079d1a42658766cb2a14b8784f",
            "9804183cd0b94129aa792969f63bd963",
            "0c2ee947bbdd46f2aec12afef2a64f43",
            "8d752097abb84872a43cf7cdfdb8fc29",
            "9c9d9c4e8e954a75bef2ec1e0771a4e8",
            "c74aed6aad7e4a93ad529a0420a35f5e",
            "a0259cc9a38f491191ea5ca22e2e5d3c",
            "b0f619702ab7436482249402612c6bbe",
            "a8be28fed022465c977b287846bdb1eb",
            "fd1df1080f824825879274f5f2a16bc7",
            "fcb75528a932490ca35dcb02d34e4c56",
            "4994fb8d67b946c6a1152cc65990c43b",
            "66ba3b110ec84158bb448469967f4b9a",
            "483cffab0c404997abb8ee27b2340125",
            "9ac1b89f8bc74d569f06bf36415f7b87",
            "e11c6002cc734a40b1b8afe1a292d0ba",
            "f6349417f014424084cf2c92c50d301c",
            "4f26f902431542dabab37ba33cd9f768",
            "d9319fba7dcb4368b49e4a87a1298dff",
            "dc0027e0b4c74d06aac4e2d808b0950a",
            "f5bae56edbe04641a592c24e2982fcd4",
            "db8a50ea14a044f8855cd7fdf0c38c06",
            "e119112a2bb144c8809c71f9ede41665",
            "2048103a44d744c4b5acb750974483e0",
            "bd797415373b4cb78adff78b8da3242d",
            "1728e76c21844d6585128e8779e5937f",
            "8df47f2b785e425f801ac2f86ae1e2aa",
            "1ff8a2fa3a7f47b4b551fecedf8fe077",
            "b79fd897d61b409282a58ffca72bc3fa",
            "b1bf9d8b444d48b08cf10764ef734716",
            "128a74ec967249f6b1ca758e6f22c879",
            "22f7b24c9e52434eaa531a6cc3c30052",
            "c5d420a59a6e4706b720b5fafdda93c5",
            "01a12ac3ab894284ab911e5776d83fb2",
            "1840b92a7b2d4e6fa171730ce3ebd5f9",
            "7aae98ebb30348d395f322fc1aa9ba46",
            "fa455990c1144f9a94dacd6ee1636f15",
            "4bb2d5c081214c56b087d6b798ad4d6c",
            "147d9674906a4575a2a5863f6adf13c7",
            "f68823aaac954c1aa69e9cebce44097c",
            "eef945d825cf411ab67590112bebbc09"
          ]
        },
        "outputId": "ac691128-9b54-4986-9c96-47c31f470e1b"
      },
      "outputs": [
        {
          "output_type": "stream",
          "name": "stderr",
          "text": [
            "/usr/local/lib/python3.10/dist-packages/huggingface_hub/utils/_auth.py:94: UserWarning: \n",
            "The secret `HF_TOKEN` does not exist in your Colab secrets.\n",
            "To authenticate with the Hugging Face Hub, create a token in your settings tab (https://huggingface.co/settings/tokens), set it as secret in your Google Colab and restart your session.\n",
            "You will be able to reuse this secret in all of your notebooks.\n",
            "Please note that authentication is recommended but still optional to access public models or datasets.\n",
            "  warnings.warn(\n"
          ]
        },
        {
          "output_type": "display_data",
          "data": {
            "text/plain": [
              "tokenizer_config.json:   0%|          | 0.00/2.00 [00:00<?, ?B/s]"
            ],
            "application/vnd.jupyter.widget-view+json": {
              "version_major": 2,
              "version_minor": 0,
              "model_id": "2d9509b621d247f5ac04f7681b0fd908"
            }
          },
          "metadata": {}
        },
        {
          "output_type": "display_data",
          "data": {
            "text/plain": [
              "vocab.txt:   0%|          | 0.00/229k [00:00<?, ?B/s]"
            ],
            "application/vnd.jupyter.widget-view+json": {
              "version_major": 2,
              "version_minor": 0,
              "model_id": "3b50253ef74541ae8c5b35614d98e65b"
            }
          },
          "metadata": {}
        },
        {
          "output_type": "display_data",
          "data": {
            "text/plain": [
              "special_tokens_map.json:   0%|          | 0.00/112 [00:00<?, ?B/s]"
            ],
            "application/vnd.jupyter.widget-view+json": {
              "version_major": 2,
              "version_minor": 0,
              "model_id": "a8be28fed022465c977b287846bdb1eb"
            }
          },
          "metadata": {}
        },
        {
          "output_type": "display_data",
          "data": {
            "text/plain": [
              "config.json:   0%|          | 0.00/1.53k [00:00<?, ?B/s]"
            ],
            "application/vnd.jupyter.widget-view+json": {
              "version_major": 2,
              "version_minor": 0,
              "model_id": "dc0027e0b4c74d06aac4e2d808b0950a"
            }
          },
          "metadata": {}
        },
        {
          "output_type": "display_data",
          "data": {
            "text/plain": [
              "pytorch_model.bin:   0%|          | 0.00/498M [00:00<?, ?B/s]"
            ],
            "application/vnd.jupyter.widget-view+json": {
              "version_major": 2,
              "version_minor": 0,
              "model_id": "128a74ec967249f6b1ca758e6f22c879"
            }
          },
          "metadata": {}
        },
        {
          "output_type": "stream",
          "name": "stderr",
          "text": [
            "Some weights of BertForTokenClassification were not initialized from the model checkpoint at indobenchmark/indobert-base-p1 and are newly initialized: ['classifier.bias', 'classifier.weight']\n",
            "You should probably TRAIN this model on a down-stream task to be able to use it for predictions and inference.\n",
            "<ipython-input-5-a24d796f758b>:87: FutureWarning: `torch.cuda.amp.autocast(args...)` is deprecated. Please use `torch.amp.autocast('cuda', args...)` instead.\n",
            "  with autocast():\n"
          ]
        },
        {
          "output_type": "stream",
          "name": "stdout",
          "text": [
            "Hasil disimpan ke file: aspect_sentiment_output.csv\n",
            "                                        Customer Review  \\\n",
            "0     Alhamdulillah berfungsi dengan baik. Packaging...   \n",
            "1     barang bagus dan respon cepat, harga bersaing ...   \n",
            "2     barang bagus, berfungsi dengan baik, seler ram...   \n",
            "3     bagus sesuai harapan penjual nya juga ramah. t...   \n",
            "4     Barang Bagus, pengemasan Aman, dapat Berfungsi...   \n",
            "...                                                 ...   \n",
            "5395  Harga bersaing, barang sesuai pesanan. Saya na...   \n",
            "5396  Beli ini krn Anak & Istri mau liburan di Jakar...   \n",
            "5397  pengemasan barang baik, kondisi barang jg utuh...   \n",
            "5398  Mungil tapi bekerja dng baik. Dan murahh terja...   \n",
            "5399  Produk sesuai deskripsi, packing aman terlindu...   \n",
            "\n",
            "                                       aspect_sentiment  \n",
            "0     [(alhamdulillah, B-Sentiment-positive), (berfu...  \n",
            "1     [(barang, B-Aspect), (bagus, B-Sentiment-posit...  \n",
            "2     [(barang, B-Aspect), (bagus, B-Sentiment-posit...  \n",
            "3     [(bagus, B-Sentiment-positive), (sesuai, I-Sen...  \n",
            "4     [(barang, B-Aspect), (bagus, B-Sentiment-posit...  \n",
            "...                                                 ...  \n",
            "5395  [(harga, B-Aspect), (bersaing, O), (barang, B-...  \n",
            "5396  [(beli, O), (ini, O), (karena, O), (anak, O), ...  \n",
            "5397  [(pengemasan, B-Aspect), (barang, I-Aspect), (...  \n",
            "5398  [(mungil, O), (tapi, O), (bekerja, O), (dengan...  \n",
            "5399  [(produk, B-Aspect), (sesuai, B-Sentiment-posi...  \n",
            "\n",
            "[5400 rows x 2 columns]\n"
          ]
        }
      ],
      "source": [
        "import pandas as pd\n",
        "import torch\n",
        "from transformers import BertTokenizer, BertForTokenClassification\n",
        "from torch.cuda.amp import autocast\n",
        "import re\n",
        "from sklearn.model_selection import train_test_split\n",
        "from torch.utils.data import DataLoader, Dataset, RandomSampler, SequentialSampler\n",
        "from tqdm import tqdm\n",
        "from sklearn.metrics import classification_report\n",
        "\n",
        "# Set random seed untuk konsistensi hasil\n",
        "torch.manual_seed(42)\n",
        "\n",
        "# Set model pre-trained\n",
        "model_name = 'indobenchmark/indobert-base-p1'\n",
        "tokenizer = BertTokenizer.from_pretrained(model_name)\n",
        "model = BertForTokenClassification.from_pretrained(model_name, num_labels=9)\n",
        "\n",
        "# ndahkan model ke GPU jika tersedia\n",
        "device = torch.device('cuda' if torch.cuda.is_available() else 'cpu')\n",
        "model.to(device)\n",
        "\n",
        "# Ubah model ke evaluasi mode\n",
        "model.eval()\n",
        "\n",
        "# Label mapping sesuai skema BIO\n",
        "id2label = {0: \"O\", 1: \"B-Aspect\", 2: \"I-Aspect\", 3: \"B-Sentiment-positive\", 4: \"I-Sentiment-positive\",\n",
        "            5: \"B-Sentiment-negative\", 6: \"I-Sentiment-negative\", 7: \"B-Sentiment-neutral\", 8: \"I-Sentiment-neutral\"}\n",
        "label2id = {label: id for id, label in id2label.items()}\n",
        "\n",
        "# Fungsi untuk menentukan apakah suatu kata berkaitan dengan aspek atau sentimen\n",
        "def get_sentiment_label(word):\n",
        "    # Kata kunci untuk aspek\n",
        "    aspect_keywords = [\"barang\", \"pengemasan\", \"pengiriman\", \"seller\", \"respon\", \"harga\", \"packaging\", \"kurir\", \"pelayanan\", \"produk\", \"item\", \"benda\", \"kualitas\", \"kondisi\", \"mutu\", \"bahan\",\n",
        "                        \"fitur\", \"spesifikasi\", \"keunggulan\", \"kemampuan\", \"desain\", \"bentuk\", \"warna\",\n",
        "                        \"model\", \"biaya\", \"tarif\", \"ongkos\", \"ukuran\", \"dimensi\", \"berat\",\n",
        "                        \"panjang\", \"merek\", \"brand\", \"label\", \"kelengkapan\", \"isi\", \"aksesori\",\n",
        "                        \"pengiriman\", \"pengantaran\", \"kirim\", \"antar\", \"paket\", \"bungkus\", \"packing\",\n",
        "                        \"bungkusan\", \"respon\", \"tanggapan\", \"pelayanan\", \"layanan\", \"komunikasi\",\n",
        "                        \"percakapan\", \"penjelasan\", \"penanganan\", \"penyelesaian\", \"pemecahan\",\n",
        "                        \"staf\", \"pegawai\", \"karyawan\", \"kurir\", \"toko\", \"penjual\", \"seller\", \"vendor\",\n",
        "                        \"stok\", \"persediaan\", \"ketersediaan\", \"pulpen\", \"penghapus\", \"pensil\", \"buku\", \"laptop\", \"komputer\", \"printer\",\n",
        "                        \"mouse\", \"keyboard\", \"monitor\", \"kabel\", \"charger\", \"baterai\", \"smartphone\",\n",
        "                        \"headset\", \"earphone\", \"tas\", \"sepatu\", \"jaket\", \"kaos\", \"baju\", \"celana\",\n",
        "                        \"helm\", \"motor\", \"mobil\", \"mainan\", \"jam tangan\", \"kamera\", \"tripod\",\n",
        "                        \"meja\", \"kursi\", \"lampu\", \"rak\", \"lemari\"]\n",
        "\n",
        "    # Kata kunci untuk sentimen positif, negatif, dan netral\n",
        "    positive_keywords = [\"baik\", \"ramah\", \"cepat\", \"amanah\", \"terima kasih\", \"bagus\", \"mantap\",\n",
        "                         \"paten\", \"joss\", \"pas\", \"puas\", \"senang\", \"aman\", \"memuaskan\", \"terbaik\", \"sesuai\", \"rapi\", \"berkualitas\", \"love\", \"alhamdulillah\"]\n",
        "    negative_keywords = [\"buruk\", \"rusak\", \"jelek\", \"lambat\", \"tidak\", \"kurang\", \"parah\", \"mengecewakan\",\n",
        "                         \"lama\", \"salah\", \"cacat\", \"buruk\", \"penyok\", \"masalah\", \"ketipu\", \"error\", \"boros\", \"kw\", \"palsu\", \"bosok\", \"lecet\", \"hancur\", \"bad\", \"payah\", \"penipuan\", \"terlambat\"]\n",
        "    neutral_keywords = [\"biasa\", \"standar\", \"cukup\", \"memadai\", \"normal\", \"lumayan\", \"oke\", \"sedang\", \"biasa saja\", \"standard\", \"layak\", \"sekadar\",\n",
        "                        \"minimal\", \"sederhana\", \"memenuhi\", \"umum\", \"sekarang\", \"nanti\", \"kemaren\", \"besok\", \"besar\", \"kecil\", \"panjang\", \"pendek\",\n",
        "                        \"berat\", \"ringan\"]\n",
        "\n",
        "    word_lower = word.lower()\n",
        "    if word_lower in aspect_keywords:\n",
        "        return \"Aspect\"\n",
        "    elif word_lower in positive_keywords:\n",
        "        return \"Sentiment-positive\"\n",
        "    elif word_lower in negative_keywords:\n",
        "        return \"Sentiment-negative\"\n",
        "    elif word_lower in neutral_keywords:\n",
        "        return \"Sentiment-neutral\"\n",
        "    else:\n",
        "        return \"O\"\n",
        "\n",
        "# Daftar kata hubung untuk label \"O\"\n",
        "connecting_words = [\"agar\", \"dan\", \"hingga\", \"supaya\", \"nya\", \"meskipun\", \"walaupun\", \"atau\", \"dengan\",\n",
        "                    \"tetapi\", \"yg\", \"lain\", \"karena\", \"oleh\", \"untuk\", \"jika\", \"maka\", \"sehingga\",\n",
        "                    \"saat\", \"pada\", \"sebagai\", \"shg\", \"dapat\", \"juga\", \"&\", \"dll\", \"dst\", \"dgn\", \"utk\", \"krn\", \"pd\", \"datang\"]\n",
        "\n",
        "# Fungsi untuk menentukan apakah suatu kata adalah kata penghubung\n",
        "def is_connecting_word(word):\n",
        "    return word.lower() in connecting_words\n",
        "\n",
        "def extract_aspect_sentiment(reviews):\n",
        "    processed_reviews = [' '.join(re.findall(r'\\b\\w+\\b', review)) for review in reviews]\n",
        "    all_tokens = [review.split() for review in processed_reviews]\n",
        "    joined_reviews = [\" \".join(tokens) for tokens in all_tokens]\n",
        "\n",
        "    inputs = tokenizer(joined_reviews, return_tensors=\"pt\", truncation=True, padding=True, max_length=512)\n",
        "    inputs = {key: value.to(device) for key, value in inputs.items()}\n",
        "\n",
        "    with torch.no_grad():\n",
        "        with autocast():\n",
        "            outputs = model(**inputs)\n",
        "\n",
        "    logits = outputs.logits\n",
        "    predicted_ids = torch.argmax(logits, dim=2)\n",
        "\n",
        "    all_bio_tags = []\n",
        "    for i, tokens in enumerate(all_tokens):\n",
        "        bert_tokens = tokenizer.convert_ids_to_tokens(inputs['input_ids'][i])\n",
        "        labels = [id2label[p.item()] for p in predicted_ids[i]]\n",
        "\n",
        "        bio_tags = []\n",
        "        token_index = 0\n",
        "        is_inside_aspect = False\n",
        "        is_inside_sentiment_positive = False\n",
        "        is_inside_sentiment_negative = False\n",
        "        is_inside_sentiment_neutral = False\n",
        "\n",
        "        for bert_token, label in zip(bert_tokens, labels):\n",
        "            if bert_token.startswith(\"##\"):\n",
        "                continue  # Abaikan sub-token\n",
        "\n",
        "            if token_index < len(tokens):\n",
        "                word = tokens[token_index]\n",
        "                token_index += 1  # Increment index setelah memproses kata\n",
        "\n",
        "                # Tentukan label untuk aspect atau sentiment\n",
        "                if get_sentiment_label(word) == \"Aspect\":\n",
        "                    tag = \"B-Aspect\" if not is_inside_aspect else \"I-Aspect\"\n",
        "                    is_inside_aspect = True\n",
        "                    is_inside_sentiment_positive = False\n",
        "                    is_inside_sentiment_negative = False\n",
        "                    is_inside_sentiment_neutral = False\n",
        "                elif is_connecting_word(word):\n",
        "                    tag = \"O\"  # Tag \"O\" untuk kata hubung\n",
        "                else:\n",
        "                    sentiment_label = get_sentiment_label(word)\n",
        "                    if sentiment_label == \"Sentiment-positive\":\n",
        "                        tag = \"B-Sentiment-positive\" if not is_inside_sentiment_positive else \"I-Sentiment-positive\"\n",
        "                        is_inside_sentiment_positive = True\n",
        "                        is_inside_aspect = False  # Reset state aspect\n",
        "                    elif sentiment_label == \"Sentiment-negative\":\n",
        "                        tag = \"B-Sentiment-negative\" if not is_inside_sentiment_negative else \"I-Sentiment-negative\"\n",
        "                        is_inside_sentiment_negative = True\n",
        "                        is_inside_aspect = False  # Reset state aspect\n",
        "                    elif sentiment_label == \"Sentiment-neutral\":\n",
        "                        tag = \"B-Sentiment-neutral\" if not is_inside_sentiment_neutral else \"I-Sentiment-neutral\"\n",
        "                        is_inside_sentiment_neutral = True\n",
        "                        is_inside_aspect = False  # Reset state aspect\n",
        "                    else:\n",
        "                        tag = \"O\"  # Jika tidak masuk kategori apapun\n",
        "                        is_inside_aspect = False\n",
        "                        is_inside_sentiment_positive = False\n",
        "                        is_inside_sentiment_negative = False\n",
        "                        is_inside_sentiment_neutral = False\n",
        "\n",
        "                bio_tags.append((word, tag))\n",
        "\n",
        "        # Jika ada kata-kata yang tersisa, beri tag \"O\"\n",
        "        while token_index < len(tokens):\n",
        "            word = tokens[token_index]\n",
        "            tag = \"O\"  # Beri tag \"O\" untuk kata yang tidak terkait\n",
        "            bio_tags.append((word, tag))\n",
        "            token_index += 1\n",
        "\n",
        "        all_bio_tags.append(bio_tags)\n",
        "\n",
        "    return all_bio_tags\n",
        "\n",
        "\n",
        "# Mengolah kolom Processed Review dalam batch\n",
        "batch_size = 16\n",
        "aspect_sentiment = []\n",
        "\n",
        "for i in range(0, len(df), batch_size):\n",
        "    batch_reviews = df['Processed Review'].iloc[i:i + batch_size].tolist()\n",
        "    aspect_sentiment.extend(extract_aspect_sentiment(batch_reviews))\n",
        "\n",
        "# Menyimpan hasil ke DataFrame\n",
        "df['aspect_sentiment'] = aspect_sentiment\n",
        "\n",
        "# Simpan DataFrame ke file CSV\n",
        "output_file = \"aspect_sentiment_output.csv\"\n",
        "df.to_csv(output_file, index=False)\n",
        "\n",
        "# Tampilkan hasil\n",
        "print(\"Hasil disimpan ke file:\", output_file)\n",
        "print(df[['Customer Review', 'aspect_sentiment']])\n"
      ]
    },
    {
      "cell_type": "markdown",
      "metadata": {
        "id": "ss5d5CwvGxDj"
      },
      "source": [
        "# Pemodelan"
      ]
    },
    {
      "cell_type": "code",
      "execution_count": null,
      "metadata": {
        "id": "dW4hwuEPGy7D"
      },
      "outputs": [],
      "source": [
        "import pandas as pd\n",
        "import torch\n",
        "from transformers import BertTokenizer, BertForTokenClassification, AdamW\n",
        "from sklearn.model_selection import train_test_split\n",
        "from torch.utils.data import DataLoader, Dataset, RandomSampler, SequentialSampler\n",
        "from tqdm import tqdm\n",
        "\n",
        "# Load dataset\n",
        "file_path = 'aspect_sentiment_output.csv'\n",
        "df = pd.read_csv(file_path)\n"
      ]
    },
    {
      "cell_type": "code",
      "execution_count": null,
      "metadata": {
        "id": "ytVIfJsrG0lz"
      },
      "outputs": [],
      "source": [
        "# Bagi dataset menjadi training dan validation (80-20 split)\n",
        "train_df, val_df = train_test_split(df, test_size=0.2, random_state=42)\n"
      ]
    },
    {
      "cell_type": "code",
      "execution_count": null,
      "metadata": {
        "id": "eTrqgxkAG14D"
      },
      "outputs": [],
      "source": [
        "class AspectSentimentDataset(Dataset):\n",
        "    def __init__(self, data, tokenizer, label2id, max_len=128):\n",
        "        self.data = data\n",
        "        self.tokenizer = tokenizer\n",
        "        self.label2id = label2id\n",
        "        self.max_len = max_len\n",
        "\n",
        "    def __len__(self):\n",
        "        return len(self.data)\n",
        "\n",
        "    def __getitem__(self, index):\n",
        "        words_labels = eval(self.data.iloc[index]['aspect_sentiment'])  # Tuple (word, label)\n",
        "        words = [wl[0] for wl in words_labels]\n",
        "        labels = [self.label2id[wl[1]] for wl in words_labels]\n",
        "\n",
        "        encoding = self.tokenizer(words, is_split_into_words=True, truncation=True,\n",
        "                                  padding='max_length', max_length=self.max_len, return_tensors=\"pt\")\n",
        "        input_ids = encoding['input_ids'].squeeze()\n",
        "        attention_mask = encoding['attention_mask'].squeeze()\n",
        "\n",
        "        # Pad labels ke max_len dengan \"O\" labels (0)\n",
        "        label_ids = labels + [self.label2id['O']] * (self.max_len - len(labels))\n",
        "        label_ids = torch.tensor(label_ids[:self.max_len])\n",
        "\n",
        "        return {\n",
        "            'input_ids': input_ids,\n",
        "            'attention_mask': attention_mask,\n",
        "            'labels': label_ids\n",
        "        }\n",
        "\n",
        "# Mapping labels\n",
        "label2id = {\"O\": 0, \"B-Aspect\": 1, \"I-Aspect\": 2, \"B-Sentiment-positive\": 3, \"I-Sentiment-positive\": 4,\n",
        "            \"B-Sentiment-negative\": 5, \"I-Sentiment-negative\": 6, \"B-Sentiment-neutral\": 7, \"I-Sentiment-neutral\": 8}\n",
        "\n",
        "# Inisiasi tokenizer\n",
        "model_name = 'indobenchmark/indobert-base-p1'\n",
        "tokenizer = BertTokenizer.from_pretrained(model_name)\n",
        "\n",
        "# Buat dataset training dan validation\n",
        "train_dataset = AspectSentimentDataset(train_df, tokenizer, label2id)\n",
        "val_dataset = AspectSentimentDataset(val_df, tokenizer, label2id)\n",
        "\n",
        "# DataLoader\n",
        "train_dataloader = DataLoader(train_dataset, sampler=RandomSampler(train_dataset), batch_size=16)\n",
        "val_dataloader = DataLoader(val_dataset, sampler=SequentialSampler(val_dataset), batch_size=16)\n"
      ]
    },
    {
      "cell_type": "code",
      "execution_count": null,
      "metadata": {
        "id": "ZlEWA19dG45L",
        "colab": {
          "base_uri": "https://localhost:8080/"
        },
        "outputId": "a2ffcbd5-9f6b-46e7-cfc9-6da1ca3a24dc"
      },
      "outputs": [
        {
          "output_type": "stream",
          "name": "stderr",
          "text": [
            "Some weights of BertForTokenClassification were not initialized from the model checkpoint at indobenchmark/indobert-base-p1 and are newly initialized: ['classifier.bias', 'classifier.weight']\n",
            "You should probably TRAIN this model on a down-stream task to be able to use it for predictions and inference.\n",
            "/usr/local/lib/python3.10/dist-packages/transformers/optimization.py:591: FutureWarning: This implementation of AdamW is deprecated and will be removed in a future version. Use the PyTorch implementation torch.optim.AdamW instead, or set `no_deprecation_warning=True` to disable this warning\n",
            "  warnings.warn(\n"
          ]
        }
      ],
      "source": [
        "# Inisasi Model\n",
        "model = BertForTokenClassification.from_pretrained(model_name, num_labels=len(label2id))\n",
        "model.to(device)\n",
        "\n",
        "# Inisiasi Optimizer\n",
        "optimizer = AdamW(model.parameters(), lr=2e-5)\n"
      ]
    },
    {
      "cell_type": "code",
      "execution_count": null,
      "metadata": {
        "id": "mjIEN4eyG6J7",
        "colab": {
          "base_uri": "https://localhost:8080/"
        },
        "outputId": "9951e365-82c2-49e0-d460-f9d3bb7196db"
      },
      "outputs": [
        {
          "output_type": "stream",
          "name": "stdout",
          "text": [
            "Epoch 1/3\n"
          ]
        },
        {
          "output_type": "stream",
          "name": "stderr",
          "text": [
            "Training: 100%|██████████| 270/270 [01:35<00:00,  2.82it/s]\n"
          ]
        },
        {
          "output_type": "stream",
          "name": "stdout",
          "text": [
            "Training loss: 0.09569096139597671\n"
          ]
        },
        {
          "output_type": "stream",
          "name": "stderr",
          "text": [
            "Validation: 100%|██████████| 68/68 [00:08<00:00,  7.61it/s]\n"
          ]
        },
        {
          "output_type": "stream",
          "name": "stdout",
          "text": [
            "Validation loss: 0.05789612208986107\n",
            "Epoch 2/3\n"
          ]
        },
        {
          "output_type": "stream",
          "name": "stderr",
          "text": [
            "Training: 100%|██████████| 270/270 [01:40<00:00,  2.69it/s]\n"
          ]
        },
        {
          "output_type": "stream",
          "name": "stdout",
          "text": [
            "Training loss: 0.04715426809809826\n"
          ]
        },
        {
          "output_type": "stream",
          "name": "stderr",
          "text": [
            "Validation: 100%|██████████| 68/68 [00:08<00:00,  7.66it/s]\n"
          ]
        },
        {
          "output_type": "stream",
          "name": "stdout",
          "text": [
            "Validation loss: 0.03723463520188542\n",
            "Epoch 3/3\n"
          ]
        },
        {
          "output_type": "stream",
          "name": "stderr",
          "text": [
            "Training: 100%|██████████| 270/270 [01:40<00:00,  2.69it/s]\n"
          ]
        },
        {
          "output_type": "stream",
          "name": "stdout",
          "text": [
            "Training loss: 0.03125377282741721\n"
          ]
        },
        {
          "output_type": "stream",
          "name": "stderr",
          "text": [
            "Validation: 100%|██████████| 68/68 [00:08<00:00,  7.63it/s]"
          ]
        },
        {
          "output_type": "stream",
          "name": "stdout",
          "text": [
            "Validation loss: 0.02669560575090787\n"
          ]
        },
        {
          "output_type": "stream",
          "name": "stderr",
          "text": [
            "\n"
          ]
        }
      ],
      "source": [
        "# Training loop\n",
        "epochs = 3\n",
        "for epoch in range(epochs):\n",
        "    print(f\"Epoch {epoch + 1}/{epochs}\")\n",
        "\n",
        "    # Training\n",
        "    model.train()\n",
        "    train_loss = 0\n",
        "    for batch in tqdm(train_dataloader, desc=\"Training\"):\n",
        "        batch = {k: v.to(device) for k, v in batch.items()}\n",
        "        optimizer.zero_grad()\n",
        "\n",
        "        outputs = model(input_ids=batch['input_ids'], attention_mask=batch['attention_mask'], labels=batch['labels'])\n",
        "        loss = outputs.loss\n",
        "        train_loss += loss.item()\n",
        "\n",
        "        loss.backward()\n",
        "        optimizer.step()\n",
        "\n",
        "    avg_train_loss = train_loss / len(train_dataloader)\n",
        "    print(f\"Training loss: {avg_train_loss}\")\n",
        "\n",
        "    # Validation\n",
        "    model.eval()\n",
        "    val_loss = 0\n",
        "    with torch.no_grad():\n",
        "        for batch in tqdm(val_dataloader, desc=\"Validation\"):\n",
        "            batch = {k: v.to(device) for k, v in batch.items()}\n",
        "            outputs = model(input_ids=batch['input_ids'], attention_mask=batch['attention_mask'], labels=batch['labels'])\n",
        "            loss = outputs.loss\n",
        "            val_loss += loss.item()\n",
        "\n",
        "    avg_val_loss = val_loss / len(val_dataloader)\n",
        "    print(f\"Validation loss: {avg_val_loss}\")\n"
      ]
    },
    {
      "cell_type": "code",
      "execution_count": null,
      "metadata": {
        "id": "fXu_V-XLG8Js",
        "colab": {
          "base_uri": "https://localhost:8080/"
        },
        "outputId": "602ba5b9-a852-4101-cf0a-c805b8b9bfbe"
      },
      "outputs": [
        {
          "output_type": "execute_result",
          "data": {
            "text/plain": [
              "('aspect_sentiment_model/tokenizer_config.json',\n",
              " 'aspect_sentiment_model/special_tokens_map.json',\n",
              " 'aspect_sentiment_model/vocab.txt',\n",
              " 'aspect_sentiment_model/added_tokens.json')"
            ]
          },
          "metadata": {},
          "execution_count": 11
        }
      ],
      "source": [
        "model.save_pretrained(\"aspect_sentiment_model\")\n",
        "tokenizer.save_pretrained(\"aspect_sentiment_model\")"
      ]
    },
    {
      "cell_type": "markdown",
      "metadata": {
        "id": "hLUP2tNmJPr4"
      },
      "source": [
        "# Evaluasi Model"
      ]
    },
    {
      "cell_type": "code",
      "source": [
        "from sklearn.metrics import classification_report\n",
        "\n",
        "def evaluate_model(model, dataloader, device):\n",
        "    model.eval()\n",
        "\n",
        "    true_labels = []\n",
        "    pred_labels = []\n",
        "\n",
        "    with torch.no_grad():\n",
        "        for batch in tqdm(dataloader, desc=\"Evaluating\"):\n",
        "            batch = {k: v.to(device) for k, v in batch.items()}\n",
        "            outputs = model(\n",
        "                input_ids=batch[\"input_ids\"],\n",
        "                attention_mask=batch[\"attention_mask\"],\n",
        "                labels=batch[\"labels\"]\n",
        "            )\n",
        "            logits = outputs.logits\n",
        "            predictions = torch.argmax(logits, dim=2)\n",
        "\n",
        "            # Mask pad tokens sebelum extending the lists\n",
        "            active_tokens = batch[\"attention_mask\"].view(-1) == 1  # Non-pad tokens\n",
        "            true_labels.extend(batch[\"labels\"].view(-1)[active_tokens].cpu().numpy())\n",
        "            pred_labels.extend(predictions.view(-1)[active_tokens].cpu().numpy())\n",
        "\n",
        "    # Masukkan semua label termasuk yang tidak predicted\n",
        "    labels = list(label2id.values())  # All defined labels\n",
        "    target_names = list(label2id.keys())  # Corresponding label names\n",
        "\n",
        "    # Generate classification report\n",
        "    report = classification_report(\n",
        "        true_labels,\n",
        "        pred_labels,\n",
        "        labels=labels,\n",
        "        target_names=target_names,\n",
        "        zero_division=0\n",
        "    )\n",
        "\n",
        "    # Print report directly in the desired format\n",
        "    print(\"\\n\" + report)\n",
        "\n",
        "# Evaluasi model\n",
        "evaluate_model(model, val_dataloader, device)"
      ],
      "metadata": {
        "id": "FzOqSIfXdh2V",
        "colab": {
          "base_uri": "https://localhost:8080/"
        },
        "outputId": "d1555659-9cad-4720-d238-9ec443ebd13a"
      },
      "execution_count": null,
      "outputs": [
        {
          "output_type": "stream",
          "name": "stderr",
          "text": [
            "Evaluating: 100%|██████████| 68/68 [00:08<00:00,  7.90it/s]\n"
          ]
        },
        {
          "output_type": "stream",
          "name": "stdout",
          "text": [
            "\n",
            "                      precision    recall  f1-score   support\n",
            "\n",
            "                   O       0.96      0.98      0.97     18598\n",
            "            B-Aspect       0.85      0.72      0.78      1419\n",
            "            I-Aspect       0.85      0.65      0.74       112\n",
            "B-Sentiment-positive       0.86      0.81      0.83       862\n",
            "I-Sentiment-positive       1.00      0.59      0.74        34\n",
            "B-Sentiment-negative       0.82      0.67      0.73       838\n",
            "I-Sentiment-negative       0.88      0.38      0.54        39\n",
            " B-Sentiment-neutral       0.78      0.54      0.64       147\n",
            " I-Sentiment-neutral       0.00      0.00      0.00         1\n",
            "\n",
            "            accuracy                           0.94     22050\n",
            "           macro avg       0.78      0.59      0.66     22050\n",
            "        weighted avg       0.94      0.94      0.94     22050\n",
            "\n"
          ]
        }
      ]
    },
    {
      "cell_type": "code",
      "source": [
        "# Plot distribusi label BIO\n",
        "# Apply eval only if the cell content is a string\n",
        "df['aspect_sentiment'] = df['aspect_sentiment'].apply(lambda x: eval(x) if isinstance(x, str) else x)\n",
        "\n",
        "# Flatten the list of labels in \"emotion_causes\" to calculate label counts\n",
        "all_labels = [label for sublist in df['aspect_sentiment'] for _, label in sublist]\n",
        "\n",
        "# Count occurrences of each label\n",
        "label_counts = pd.Series(all_labels).value_counts()\n",
        "label_counts"
      ],
      "metadata": {
        "id": "Kq4VngiAL4pk",
        "colab": {
          "base_uri": "https://localhost:8080/",
          "height": 366
        },
        "outputId": "38f45860-0347-43dd-b4b6-6d575f354bd6"
      },
      "execution_count": null,
      "outputs": [
        {
          "output_type": "execute_result",
          "data": {
            "text/plain": [
              "O                       68621\n",
              "B-Aspect                 6891\n",
              "B-Sentiment-negative     4246\n",
              "B-Sentiment-positive     4210\n",
              "B-Sentiment-neutral       769\n",
              "I-Aspect                  549\n",
              "I-Sentiment-positive      214\n",
              "I-Sentiment-negative      134\n",
              "I-Sentiment-neutral        16\n",
              "Name: count, dtype: int64"
            ],
            "text/html": [
              "<div>\n",
              "<style scoped>\n",
              "    .dataframe tbody tr th:only-of-type {\n",
              "        vertical-align: middle;\n",
              "    }\n",
              "\n",
              "    .dataframe tbody tr th {\n",
              "        vertical-align: top;\n",
              "    }\n",
              "\n",
              "    .dataframe thead th {\n",
              "        text-align: right;\n",
              "    }\n",
              "</style>\n",
              "<table border=\"1\" class=\"dataframe\">\n",
              "  <thead>\n",
              "    <tr style=\"text-align: right;\">\n",
              "      <th></th>\n",
              "      <th>count</th>\n",
              "    </tr>\n",
              "  </thead>\n",
              "  <tbody>\n",
              "    <tr>\n",
              "      <th>O</th>\n",
              "      <td>68621</td>\n",
              "    </tr>\n",
              "    <tr>\n",
              "      <th>B-Aspect</th>\n",
              "      <td>6891</td>\n",
              "    </tr>\n",
              "    <tr>\n",
              "      <th>B-Sentiment-negative</th>\n",
              "      <td>4246</td>\n",
              "    </tr>\n",
              "    <tr>\n",
              "      <th>B-Sentiment-positive</th>\n",
              "      <td>4210</td>\n",
              "    </tr>\n",
              "    <tr>\n",
              "      <th>B-Sentiment-neutral</th>\n",
              "      <td>769</td>\n",
              "    </tr>\n",
              "    <tr>\n",
              "      <th>I-Aspect</th>\n",
              "      <td>549</td>\n",
              "    </tr>\n",
              "    <tr>\n",
              "      <th>I-Sentiment-positive</th>\n",
              "      <td>214</td>\n",
              "    </tr>\n",
              "    <tr>\n",
              "      <th>I-Sentiment-negative</th>\n",
              "      <td>134</td>\n",
              "    </tr>\n",
              "    <tr>\n",
              "      <th>I-Sentiment-neutral</th>\n",
              "      <td>16</td>\n",
              "    </tr>\n",
              "  </tbody>\n",
              "</table>\n",
              "</div><br><label><b>dtype:</b> int64</label>"
            ]
          },
          "metadata": {},
          "execution_count": 13
        }
      ]
    },
    {
      "cell_type": "code",
      "execution_count": null,
      "metadata": {
        "id": "DiAoYJ0DLt_m",
        "colab": {
          "base_uri": "https://localhost:8080/"
        },
        "outputId": "e911d5fb-e666-4650-da34-30a8de8a83cb"
      },
      "outputs": [
        {
          "output_type": "execute_result",
          "data": {
            "text/plain": [
              "('aspect_sentiment_model/tokenizer_config.json',\n",
              " 'aspect_sentiment_model/special_tokens_map.json',\n",
              " 'aspect_sentiment_model/vocab.txt',\n",
              " 'aspect_sentiment_model/added_tokens.json')"
            ]
          },
          "metadata": {},
          "execution_count": 14
        }
      ],
      "source": [
        "model.save_pretrained(\"aspect_sentiment_model\")\n",
        "tokenizer.save_pretrained(\"aspect_sentiment_model\")"
      ]
    },
    {
      "cell_type": "code",
      "execution_count": null,
      "metadata": {
        "id": "yOLkD_XYLw22",
        "colab": {
          "base_uri": "https://localhost:8080/"
        },
        "outputId": "a73bb2d0-d9a4-4ec7-b46d-4ebfea42fcca"
      },
      "outputs": [
        {
          "output_type": "execute_result",
          "data": {
            "text/plain": [
              "BertForTokenClassification(\n",
              "  (bert): BertModel(\n",
              "    (embeddings): BertEmbeddings(\n",
              "      (word_embeddings): Embedding(50000, 768, padding_idx=0)\n",
              "      (position_embeddings): Embedding(512, 768)\n",
              "      (token_type_embeddings): Embedding(2, 768)\n",
              "      (LayerNorm): LayerNorm((768,), eps=1e-12, elementwise_affine=True)\n",
              "      (dropout): Dropout(p=0.1, inplace=False)\n",
              "    )\n",
              "    (encoder): BertEncoder(\n",
              "      (layer): ModuleList(\n",
              "        (0-11): 12 x BertLayer(\n",
              "          (attention): BertAttention(\n",
              "            (self): BertSdpaSelfAttention(\n",
              "              (query): Linear(in_features=768, out_features=768, bias=True)\n",
              "              (key): Linear(in_features=768, out_features=768, bias=True)\n",
              "              (value): Linear(in_features=768, out_features=768, bias=True)\n",
              "              (dropout): Dropout(p=0.1, inplace=False)\n",
              "            )\n",
              "            (output): BertSelfOutput(\n",
              "              (dense): Linear(in_features=768, out_features=768, bias=True)\n",
              "              (LayerNorm): LayerNorm((768,), eps=1e-12, elementwise_affine=True)\n",
              "              (dropout): Dropout(p=0.1, inplace=False)\n",
              "            )\n",
              "          )\n",
              "          (intermediate): BertIntermediate(\n",
              "            (dense): Linear(in_features=768, out_features=3072, bias=True)\n",
              "            (intermediate_act_fn): GELUActivation()\n",
              "          )\n",
              "          (output): BertOutput(\n",
              "            (dense): Linear(in_features=3072, out_features=768, bias=True)\n",
              "            (LayerNorm): LayerNorm((768,), eps=1e-12, elementwise_affine=True)\n",
              "            (dropout): Dropout(p=0.1, inplace=False)\n",
              "          )\n",
              "        )\n",
              "      )\n",
              "    )\n",
              "  )\n",
              "  (dropout): Dropout(p=0.1, inplace=False)\n",
              "  (classifier): Linear(in_features=768, out_features=9, bias=True)\n",
              ")"
            ]
          },
          "metadata": {},
          "execution_count": 15
        }
      ],
      "source": [
        "model = BertForTokenClassification.from_pretrained(\"aspect_sentiment_model\")\n",
        "tokenizer = BertTokenizer.from_pretrained(\"aspect_sentiment_model\")\n",
        "model.to(device)\n"
      ]
    },
    {
      "cell_type": "markdown",
      "source": [
        "# Triplet Aspect-Sentiment-Polarity"
      ],
      "metadata": {
        "id": "PDw3jCxtxxy_"
      }
    },
    {
      "cell_type": "code",
      "source": [
        "import torch\n",
        "import re\n",
        "\n",
        "# Fungsi untuk memisahkan kata yang diakhiri dengan \"-nya\"\n",
        "def pisah_kata_kombinasi(teks):\n",
        "    teks = re.sub(r'(\\w+)(nya)\\b', r'\\1 \\2', teks)  # Pisahkan kata yang diakhiri dengan \"nya\"\n",
        "    return teks\n",
        "\n",
        "# Fungsi untuk mengganti slang dengan kata baku\n",
        "def normalisasi_slang(teks):\n",
        "    teks = teks.lower()  # Ubah ke huruf kecil agar pencocokan konsisten\n",
        "    kata_kata = teks.split()  # Pisahkan kalimat menjadi kata-kata\n",
        "    kata_kata_normal = [slang_to_baku.get(kata, kata) for kata in kata_kata]  # Ganti slang dengan baku\n",
        "    return ' '.join(kata_kata_normal)  # Gabungkan kata-kata kembali menjadi kalimat\n",
        "\n",
        "# Fungsi untuk memprediksi sentimen\n",
        "def prediksi_sentimen(review, model, tokenizer, device):\n",
        "    model.eval()\n",
        "\n",
        "    # Normalisasi slang dan pisahkan kombinasi kata\n",
        "    review = normalisasi_slang(review)\n",
        "    review = pisah_kata_kombinasi(review)\n",
        "\n",
        "    # Bersihkan tanda baca\n",
        "    review_bersih = re.sub(r'[^\\w\\s]', '', review)\n",
        "\n",
        "    # Tokenisasi teks yang bersih (tanpa tanda baca)\n",
        "    inputs = tokenizer(review_bersih, return_tensors=\"pt\", truncation=True, padding=True, max_length=512)\n",
        "    inputs = {key: value.to(device) for key, value in inputs.items()}\n",
        "\n",
        "    with torch.no_grad():\n",
        "        outputs = model(**inputs)\n",
        "    logits = outputs.logits\n",
        "    predictions = torch.argmax(logits, dim=2)\n",
        "\n",
        "    # Konversi token ID kembali ke token teks\n",
        "    tokens = tokenizer.convert_ids_to_tokens(inputs['input_ids'][0])\n",
        "    daftar_kata = review_bersih.split()\n",
        "\n",
        "    # List untuk menyimpan hasil prediksi (kata, label)\n",
        "    hasil_prediksi = []\n",
        "    indeks_kata = 0\n",
        "\n",
        "    for token, label_id in zip(tokens, predictions[0]):\n",
        "        if token.startswith(\"##\"):\n",
        "            continue  # Abaikan sub-token\n",
        "        if indeks_kata < len(daftar_kata):\n",
        "            kata_asli = daftar_kata[indeks_kata]\n",
        "            label = id2label[label_id.item()]\n",
        "            hasil_prediksi.append((kata_asli, label))\n",
        "            indeks_kata += 1\n",
        "\n",
        "    return hasil_prediksi\n",
        "\n",
        "# Fungsi untuk menentukan polaritas\n",
        "def get_polarity(sentiment_label):\n",
        "    if \"positive\" in sentiment_label:\n",
        "        return \"positive\"\n",
        "    elif \"negative\" in sentiment_label:\n",
        "        return \"negative\"\n",
        "    elif \"neutral\" in sentiment_label:\n",
        "        return \"neutral\"\n",
        "    else:\n",
        "        return None\n",
        "\n",
        "# Fungsi untuk menghubungkan aspek, semua sentimen terkait, dan polarity\n",
        "def hubungkan_aspek_sentimen(prediksi):\n",
        "    aspek_sentimen_polarity = []\n",
        "    aspek = None\n",
        "    sentimen = []\n",
        "    polarity = []\n",
        "\n",
        "    for kata, label in prediksi:\n",
        "        if 'Aspect' in label:\n",
        "            # Simpan semua triplet sebelumnya sebelum beralih ke aspek baru\n",
        "            if aspek and sentimen:\n",
        "                for s, p in zip(sentimen, polarity):\n",
        "                    aspek_sentimen_polarity.append((aspek, s, p))\n",
        "            # Inisialisasi aspek baru\n",
        "            aspek = kata\n",
        "            sentimen = []\n",
        "            polarity = []\n",
        "        elif 'Sentiment' in label:\n",
        "            # Tambahkan sentimen dan polarity baru ke daftar\n",
        "            sentimen.append(kata)\n",
        "            if \"positive\" in label:\n",
        "                polarity.append(\"positive\")\n",
        "            elif \"negative\" in label:\n",
        "                polarity.append(\"negative\")\n",
        "            elif \"neutral\" in label:\n",
        "                polarity.append(\"neutral\")\n",
        "\n",
        "    # Tambahkan triplet terakhir jika ada\n",
        "    if aspek and sentimen:\n",
        "        for s, p in zip(sentimen, polarity):\n",
        "            aspek_sentimen_polarity.append((aspek, s, p))\n",
        "\n",
        "    return aspek_sentimen_polarity\n",
        "\n",
        "# Fungsi untuk menguji prediksi dan menghasilkan output\n",
        "def test_prediksi(teks, model, tokenizer, device):\n",
        "    hasil_prediksi = prediksi_sentimen(teks, model, tokenizer, device)\n",
        "    print(\"Hasil Prediksi:\")\n",
        "    for kata, label in hasil_prediksi:\n",
        "        print(f\"{kata} - {label}\")\n",
        "\n",
        "    print(\"\\nHubungan Aspek, Sentimen, dan Polarity:\")\n",
        "    aspek_sentimen_polarity = hubungkan_aspek_sentimen(hasil_prediksi)\n",
        "    for aspek, sentimen, polarity in aspek_sentimen_polarity:\n",
        "        print(f\"Aspek: {aspek}, Sentimen: {sentimen}, Polarity: {polarity}\")\n",
        "\n",
        "# Contoh penggunaan\n",
        "teks_review = \"barang bagus, berkualitas dan murah\"\n",
        "test_prediksi(teks_review, model, tokenizer, device)\n"
      ],
      "metadata": {
        "colab": {
          "base_uri": "https://localhost:8080/"
        },
        "id": "eqJaDJlJt9ow",
        "outputId": "5492d4d4-2ce3-4798-de66-125f9fd9b41a"
      },
      "execution_count": null,
      "outputs": [
        {
          "output_type": "stream",
          "name": "stdout",
          "text": [
            "Hasil Prediksi:\n",
            "barang - B-Aspect\n",
            "bagus - B-Sentiment-positive\n",
            "berkualitas - I-Sentiment-positive\n",
            "dan - O\n",
            "murah - O\n",
            "\n",
            "Hubungan Aspek, Sentimen, dan Polarity:\n",
            "Aspek: barang, Sentimen: bagus, Polarity: positive\n",
            "Aspek: barang, Sentimen: berkualitas, Polarity: positive\n"
          ]
        }
      ]
    },
    {
      "cell_type": "code",
      "execution_count": null,
      "metadata": {
        "id": "ocKDrTaYv64r",
        "colab": {
          "base_uri": "https://localhost:8080/"
        },
        "outputId": "1434986c-c0a3-484e-bbb7-739bfe2dc0db"
      },
      "outputs": [
        {
          "output_type": "stream",
          "name": "stdout",
          "text": [
            "Hasil Prediksi:\n",
            "kurir - B-Aspect\n",
            "ramah - B-Sentiment-positive\n",
            "packaging - B-Aspect\n",
            "biasa - B-Sentiment-neutral\n",
            "saja - O\n",
            "\n",
            "Hubungan Aspek, Sentimen, dan Polarity:\n",
            "Aspek: kurir, Sentimen: ramah, Polarity: positive\n",
            "Aspek: packaging, Sentimen: biasa, Polarity: neutral\n"
          ]
        }
      ],
      "source": [
        "# Contoh penggunaan\n",
        "teks_review = \"kurir ramah, packaging biasa saja\"\n",
        "test_prediksi(teks_review, model, tokenizer, device)"
      ]
    },
    {
      "cell_type": "code",
      "execution_count": null,
      "metadata": {
        "id": "8ffPTPCXxF70",
        "colab": {
          "base_uri": "https://localhost:8080/"
        },
        "outputId": "b4376abd-a8b0-44d8-d2d0-bc7c958f3dc8"
      },
      "outputs": [
        {
          "output_type": "stream",
          "name": "stdout",
          "text": [
            "Hasil Prediksi:\n",
            "pengiriman - B-Aspect\n",
            "cepat - B-Sentiment-positive\n",
            "tapi - O\n",
            "barang - B-Aspect\n",
            "nya - O\n",
            "rusak - B-Sentiment-negative\n",
            "\n",
            "Hubungan Aspek, Sentimen, dan Polarity:\n",
            "Aspek: pengiriman, Sentimen: cepat, Polarity: positive\n",
            "Aspek: barang, Sentimen: rusak, Polarity: negative\n"
          ]
        }
      ],
      "source": [
        "# Contoh penggunaan\n",
        "teks_review = \"pengiriman cepat tapi barangnya rusak\"\n",
        "test_prediksi(teks_review, model, tokenizer, device)"
      ]
    },
    {
      "cell_type": "code",
      "execution_count": null,
      "metadata": {
        "id": "2iq2nWv9xZHp",
        "colab": {
          "base_uri": "https://localhost:8080/"
        },
        "outputId": "7b57b322-8527-4e88-8570-91640e584d5c"
      },
      "outputs": [
        {
          "output_type": "stream",
          "name": "stdout",
          "text": [
            "Hasil Prediksi:\n",
            "pengiriman - B-Aspect\n",
            "cepat - B-Sentiment-positive\n",
            "dan - O\n",
            "aman - I-Sentiment-positive\n",
            "\n",
            "Hubungan Aspek, Sentimen, dan Polarity:\n",
            "Aspek: pengiriman, Sentimen: cepat, Polarity: positive\n",
            "Aspek: pengiriman, Sentimen: aman, Polarity: positive\n"
          ]
        }
      ],
      "source": [
        "# Contoh penggunaan\n",
        "teks_review = \"pengiriman cepat dan aman\"\n",
        "test_prediksi(teks_review, model, tokenizer, device)"
      ]
    },
    {
      "cell_type": "code",
      "execution_count": null,
      "metadata": {
        "id": "66k7vJybxpQA",
        "colab": {
          "base_uri": "https://localhost:8080/"
        },
        "outputId": "2969ff66-0408-4e9a-e4c0-7f7c4c13bad0"
      },
      "outputs": [
        {
          "output_type": "stream",
          "name": "stdout",
          "text": [
            "Hasil Prediksi:\n",
            "pengiriman - B-Aspect\n",
            "cepat - B-Sentiment-positive\n",
            "tapi - O\n",
            "barang - B-Aspect\n",
            "rusak - B-Sentiment-negative\n",
            "\n",
            "Hubungan Aspek, Sentimen, dan Polarity:\n",
            "Aspek: pengiriman, Sentimen: cepat, Polarity: positive\n",
            "Aspek: barang, Sentimen: rusak, Polarity: negative\n"
          ]
        }
      ],
      "source": [
        "# Contoh penggunaan\n",
        "teks_review = \"pengiriman cepat tp brg rusak\"\n",
        "test_prediksi(teks_review, model, tokenizer, device)"
      ]
    }
  ],
  "metadata": {
    "accelerator": "GPU",
    "colab": {
      "gpuType": "T4",
      "provenance": []
    },
    "kernelspec": {
      "display_name": "Python 3",
      "name": "python3"
    },
    "language_info": {
      "name": "python"
    },
    "widgets": {
      "application/vnd.jupyter.widget-state+json": {
        "2d9509b621d247f5ac04f7681b0fd908": {
          "model_module": "@jupyter-widgets/controls",
          "model_name": "HBoxModel",
          "model_module_version": "1.5.0",
          "state": {
            "_dom_classes": [],
            "_model_module": "@jupyter-widgets/controls",
            "_model_module_version": "1.5.0",
            "_model_name": "HBoxModel",
            "_view_count": null,
            "_view_module": "@jupyter-widgets/controls",
            "_view_module_version": "1.5.0",
            "_view_name": "HBoxView",
            "box_style": "",
            "children": [
              "IPY_MODEL_4317a43dc38247bfa7ae70cf2c20c61d",
              "IPY_MODEL_aa29cafb1eda4b088da9fade90057856",
              "IPY_MODEL_279167c16532467196115f6f88d14881"
            ],
            "layout": "IPY_MODEL_2a5ed2b48c1a406695a7d1aa52975042"
          }
        },
        "4317a43dc38247bfa7ae70cf2c20c61d": {
          "model_module": "@jupyter-widgets/controls",
          "model_name": "HTMLModel",
          "model_module_version": "1.5.0",
          "state": {
            "_dom_classes": [],
            "_model_module": "@jupyter-widgets/controls",
            "_model_module_version": "1.5.0",
            "_model_name": "HTMLModel",
            "_view_count": null,
            "_view_module": "@jupyter-widgets/controls",
            "_view_module_version": "1.5.0",
            "_view_name": "HTMLView",
            "description": "",
            "description_tooltip": null,
            "layout": "IPY_MODEL_c13d84d89b8a4adea3fd0c516eae8940",
            "placeholder": "​",
            "style": "IPY_MODEL_ef478d4629c24af793e5774e916dea76",
            "value": "tokenizer_config.json: 100%"
          }
        },
        "aa29cafb1eda4b088da9fade90057856": {
          "model_module": "@jupyter-widgets/controls",
          "model_name": "FloatProgressModel",
          "model_module_version": "1.5.0",
          "state": {
            "_dom_classes": [],
            "_model_module": "@jupyter-widgets/controls",
            "_model_module_version": "1.5.0",
            "_model_name": "FloatProgressModel",
            "_view_count": null,
            "_view_module": "@jupyter-widgets/controls",
            "_view_module_version": "1.5.0",
            "_view_name": "ProgressView",
            "bar_style": "success",
            "description": "",
            "description_tooltip": null,
            "layout": "IPY_MODEL_28b8543b2daa4460bedcdbd7fec42c42",
            "max": 2,
            "min": 0,
            "orientation": "horizontal",
            "style": "IPY_MODEL_b0af1e015a07499ba0c23c46d67bbc13",
            "value": 2
          }
        },
        "279167c16532467196115f6f88d14881": {
          "model_module": "@jupyter-widgets/controls",
          "model_name": "HTMLModel",
          "model_module_version": "1.5.0",
          "state": {
            "_dom_classes": [],
            "_model_module": "@jupyter-widgets/controls",
            "_model_module_version": "1.5.0",
            "_model_name": "HTMLModel",
            "_view_count": null,
            "_view_module": "@jupyter-widgets/controls",
            "_view_module_version": "1.5.0",
            "_view_name": "HTMLView",
            "description": "",
            "description_tooltip": null,
            "layout": "IPY_MODEL_e370d2b3035c49e98f52cc780e0530a3",
            "placeholder": "​",
            "style": "IPY_MODEL_e99a48a502114f78b5ddc9b74f610296",
            "value": " 2.00/2.00 [00:00&lt;00:00, 37.6B/s]"
          }
        },
        "2a5ed2b48c1a406695a7d1aa52975042": {
          "model_module": "@jupyter-widgets/base",
          "model_name": "LayoutModel",
          "model_module_version": "1.2.0",
          "state": {
            "_model_module": "@jupyter-widgets/base",
            "_model_module_version": "1.2.0",
            "_model_name": "LayoutModel",
            "_view_count": null,
            "_view_module": "@jupyter-widgets/base",
            "_view_module_version": "1.2.0",
            "_view_name": "LayoutView",
            "align_content": null,
            "align_items": null,
            "align_self": null,
            "border": null,
            "bottom": null,
            "display": null,
            "flex": null,
            "flex_flow": null,
            "grid_area": null,
            "grid_auto_columns": null,
            "grid_auto_flow": null,
            "grid_auto_rows": null,
            "grid_column": null,
            "grid_gap": null,
            "grid_row": null,
            "grid_template_areas": null,
            "grid_template_columns": null,
            "grid_template_rows": null,
            "height": null,
            "justify_content": null,
            "justify_items": null,
            "left": null,
            "margin": null,
            "max_height": null,
            "max_width": null,
            "min_height": null,
            "min_width": null,
            "object_fit": null,
            "object_position": null,
            "order": null,
            "overflow": null,
            "overflow_x": null,
            "overflow_y": null,
            "padding": null,
            "right": null,
            "top": null,
            "visibility": null,
            "width": null
          }
        },
        "c13d84d89b8a4adea3fd0c516eae8940": {
          "model_module": "@jupyter-widgets/base",
          "model_name": "LayoutModel",
          "model_module_version": "1.2.0",
          "state": {
            "_model_module": "@jupyter-widgets/base",
            "_model_module_version": "1.2.0",
            "_model_name": "LayoutModel",
            "_view_count": null,
            "_view_module": "@jupyter-widgets/base",
            "_view_module_version": "1.2.0",
            "_view_name": "LayoutView",
            "align_content": null,
            "align_items": null,
            "align_self": null,
            "border": null,
            "bottom": null,
            "display": null,
            "flex": null,
            "flex_flow": null,
            "grid_area": null,
            "grid_auto_columns": null,
            "grid_auto_flow": null,
            "grid_auto_rows": null,
            "grid_column": null,
            "grid_gap": null,
            "grid_row": null,
            "grid_template_areas": null,
            "grid_template_columns": null,
            "grid_template_rows": null,
            "height": null,
            "justify_content": null,
            "justify_items": null,
            "left": null,
            "margin": null,
            "max_height": null,
            "max_width": null,
            "min_height": null,
            "min_width": null,
            "object_fit": null,
            "object_position": null,
            "order": null,
            "overflow": null,
            "overflow_x": null,
            "overflow_y": null,
            "padding": null,
            "right": null,
            "top": null,
            "visibility": null,
            "width": null
          }
        },
        "ef478d4629c24af793e5774e916dea76": {
          "model_module": "@jupyter-widgets/controls",
          "model_name": "DescriptionStyleModel",
          "model_module_version": "1.5.0",
          "state": {
            "_model_module": "@jupyter-widgets/controls",
            "_model_module_version": "1.5.0",
            "_model_name": "DescriptionStyleModel",
            "_view_count": null,
            "_view_module": "@jupyter-widgets/base",
            "_view_module_version": "1.2.0",
            "_view_name": "StyleView",
            "description_width": ""
          }
        },
        "28b8543b2daa4460bedcdbd7fec42c42": {
          "model_module": "@jupyter-widgets/base",
          "model_name": "LayoutModel",
          "model_module_version": "1.2.0",
          "state": {
            "_model_module": "@jupyter-widgets/base",
            "_model_module_version": "1.2.0",
            "_model_name": "LayoutModel",
            "_view_count": null,
            "_view_module": "@jupyter-widgets/base",
            "_view_module_version": "1.2.0",
            "_view_name": "LayoutView",
            "align_content": null,
            "align_items": null,
            "align_self": null,
            "border": null,
            "bottom": null,
            "display": null,
            "flex": null,
            "flex_flow": null,
            "grid_area": null,
            "grid_auto_columns": null,
            "grid_auto_flow": null,
            "grid_auto_rows": null,
            "grid_column": null,
            "grid_gap": null,
            "grid_row": null,
            "grid_template_areas": null,
            "grid_template_columns": null,
            "grid_template_rows": null,
            "height": null,
            "justify_content": null,
            "justify_items": null,
            "left": null,
            "margin": null,
            "max_height": null,
            "max_width": null,
            "min_height": null,
            "min_width": null,
            "object_fit": null,
            "object_position": null,
            "order": null,
            "overflow": null,
            "overflow_x": null,
            "overflow_y": null,
            "padding": null,
            "right": null,
            "top": null,
            "visibility": null,
            "width": null
          }
        },
        "b0af1e015a07499ba0c23c46d67bbc13": {
          "model_module": "@jupyter-widgets/controls",
          "model_name": "ProgressStyleModel",
          "model_module_version": "1.5.0",
          "state": {
            "_model_module": "@jupyter-widgets/controls",
            "_model_module_version": "1.5.0",
            "_model_name": "ProgressStyleModel",
            "_view_count": null,
            "_view_module": "@jupyter-widgets/base",
            "_view_module_version": "1.2.0",
            "_view_name": "StyleView",
            "bar_color": null,
            "description_width": ""
          }
        },
        "e370d2b3035c49e98f52cc780e0530a3": {
          "model_module": "@jupyter-widgets/base",
          "model_name": "LayoutModel",
          "model_module_version": "1.2.0",
          "state": {
            "_model_module": "@jupyter-widgets/base",
            "_model_module_version": "1.2.0",
            "_model_name": "LayoutModel",
            "_view_count": null,
            "_view_module": "@jupyter-widgets/base",
            "_view_module_version": "1.2.0",
            "_view_name": "LayoutView",
            "align_content": null,
            "align_items": null,
            "align_self": null,
            "border": null,
            "bottom": null,
            "display": null,
            "flex": null,
            "flex_flow": null,
            "grid_area": null,
            "grid_auto_columns": null,
            "grid_auto_flow": null,
            "grid_auto_rows": null,
            "grid_column": null,
            "grid_gap": null,
            "grid_row": null,
            "grid_template_areas": null,
            "grid_template_columns": null,
            "grid_template_rows": null,
            "height": null,
            "justify_content": null,
            "justify_items": null,
            "left": null,
            "margin": null,
            "max_height": null,
            "max_width": null,
            "min_height": null,
            "min_width": null,
            "object_fit": null,
            "object_position": null,
            "order": null,
            "overflow": null,
            "overflow_x": null,
            "overflow_y": null,
            "padding": null,
            "right": null,
            "top": null,
            "visibility": null,
            "width": null
          }
        },
        "e99a48a502114f78b5ddc9b74f610296": {
          "model_module": "@jupyter-widgets/controls",
          "model_name": "DescriptionStyleModel",
          "model_module_version": "1.5.0",
          "state": {
            "_model_module": "@jupyter-widgets/controls",
            "_model_module_version": "1.5.0",
            "_model_name": "DescriptionStyleModel",
            "_view_count": null,
            "_view_module": "@jupyter-widgets/base",
            "_view_module_version": "1.2.0",
            "_view_name": "StyleView",
            "description_width": ""
          }
        },
        "3b50253ef74541ae8c5b35614d98e65b": {
          "model_module": "@jupyter-widgets/controls",
          "model_name": "HBoxModel",
          "model_module_version": "1.5.0",
          "state": {
            "_dom_classes": [],
            "_model_module": "@jupyter-widgets/controls",
            "_model_module_version": "1.5.0",
            "_model_name": "HBoxModel",
            "_view_count": null,
            "_view_module": "@jupyter-widgets/controls",
            "_view_module_version": "1.5.0",
            "_view_name": "HBoxView",
            "box_style": "",
            "children": [
              "IPY_MODEL_b02d383f04b94062a98c0c09d65abd04",
              "IPY_MODEL_3701cd96961d4def83ae27113ddcf110",
              "IPY_MODEL_d15d79079d1a42658766cb2a14b8784f"
            ],
            "layout": "IPY_MODEL_9804183cd0b94129aa792969f63bd963"
          }
        },
        "b02d383f04b94062a98c0c09d65abd04": {
          "model_module": "@jupyter-widgets/controls",
          "model_name": "HTMLModel",
          "model_module_version": "1.5.0",
          "state": {
            "_dom_classes": [],
            "_model_module": "@jupyter-widgets/controls",
            "_model_module_version": "1.5.0",
            "_model_name": "HTMLModel",
            "_view_count": null,
            "_view_module": "@jupyter-widgets/controls",
            "_view_module_version": "1.5.0",
            "_view_name": "HTMLView",
            "description": "",
            "description_tooltip": null,
            "layout": "IPY_MODEL_0c2ee947bbdd46f2aec12afef2a64f43",
            "placeholder": "​",
            "style": "IPY_MODEL_8d752097abb84872a43cf7cdfdb8fc29",
            "value": "vocab.txt: 100%"
          }
        },
        "3701cd96961d4def83ae27113ddcf110": {
          "model_module": "@jupyter-widgets/controls",
          "model_name": "FloatProgressModel",
          "model_module_version": "1.5.0",
          "state": {
            "_dom_classes": [],
            "_model_module": "@jupyter-widgets/controls",
            "_model_module_version": "1.5.0",
            "_model_name": "FloatProgressModel",
            "_view_count": null,
            "_view_module": "@jupyter-widgets/controls",
            "_view_module_version": "1.5.0",
            "_view_name": "ProgressView",
            "bar_style": "success",
            "description": "",
            "description_tooltip": null,
            "layout": "IPY_MODEL_9c9d9c4e8e954a75bef2ec1e0771a4e8",
            "max": 229167,
            "min": 0,
            "orientation": "horizontal",
            "style": "IPY_MODEL_c74aed6aad7e4a93ad529a0420a35f5e",
            "value": 229167
          }
        },
        "d15d79079d1a42658766cb2a14b8784f": {
          "model_module": "@jupyter-widgets/controls",
          "model_name": "HTMLModel",
          "model_module_version": "1.5.0",
          "state": {
            "_dom_classes": [],
            "_model_module": "@jupyter-widgets/controls",
            "_model_module_version": "1.5.0",
            "_model_name": "HTMLModel",
            "_view_count": null,
            "_view_module": "@jupyter-widgets/controls",
            "_view_module_version": "1.5.0",
            "_view_name": "HTMLView",
            "description": "",
            "description_tooltip": null,
            "layout": "IPY_MODEL_a0259cc9a38f491191ea5ca22e2e5d3c",
            "placeholder": "​",
            "style": "IPY_MODEL_b0f619702ab7436482249402612c6bbe",
            "value": " 229k/229k [00:00&lt;00:00, 3.08MB/s]"
          }
        },
        "9804183cd0b94129aa792969f63bd963": {
          "model_module": "@jupyter-widgets/base",
          "model_name": "LayoutModel",
          "model_module_version": "1.2.0",
          "state": {
            "_model_module": "@jupyter-widgets/base",
            "_model_module_version": "1.2.0",
            "_model_name": "LayoutModel",
            "_view_count": null,
            "_view_module": "@jupyter-widgets/base",
            "_view_module_version": "1.2.0",
            "_view_name": "LayoutView",
            "align_content": null,
            "align_items": null,
            "align_self": null,
            "border": null,
            "bottom": null,
            "display": null,
            "flex": null,
            "flex_flow": null,
            "grid_area": null,
            "grid_auto_columns": null,
            "grid_auto_flow": null,
            "grid_auto_rows": null,
            "grid_column": null,
            "grid_gap": null,
            "grid_row": null,
            "grid_template_areas": null,
            "grid_template_columns": null,
            "grid_template_rows": null,
            "height": null,
            "justify_content": null,
            "justify_items": null,
            "left": null,
            "margin": null,
            "max_height": null,
            "max_width": null,
            "min_height": null,
            "min_width": null,
            "object_fit": null,
            "object_position": null,
            "order": null,
            "overflow": null,
            "overflow_x": null,
            "overflow_y": null,
            "padding": null,
            "right": null,
            "top": null,
            "visibility": null,
            "width": null
          }
        },
        "0c2ee947bbdd46f2aec12afef2a64f43": {
          "model_module": "@jupyter-widgets/base",
          "model_name": "LayoutModel",
          "model_module_version": "1.2.0",
          "state": {
            "_model_module": "@jupyter-widgets/base",
            "_model_module_version": "1.2.0",
            "_model_name": "LayoutModel",
            "_view_count": null,
            "_view_module": "@jupyter-widgets/base",
            "_view_module_version": "1.2.0",
            "_view_name": "LayoutView",
            "align_content": null,
            "align_items": null,
            "align_self": null,
            "border": null,
            "bottom": null,
            "display": null,
            "flex": null,
            "flex_flow": null,
            "grid_area": null,
            "grid_auto_columns": null,
            "grid_auto_flow": null,
            "grid_auto_rows": null,
            "grid_column": null,
            "grid_gap": null,
            "grid_row": null,
            "grid_template_areas": null,
            "grid_template_columns": null,
            "grid_template_rows": null,
            "height": null,
            "justify_content": null,
            "justify_items": null,
            "left": null,
            "margin": null,
            "max_height": null,
            "max_width": null,
            "min_height": null,
            "min_width": null,
            "object_fit": null,
            "object_position": null,
            "order": null,
            "overflow": null,
            "overflow_x": null,
            "overflow_y": null,
            "padding": null,
            "right": null,
            "top": null,
            "visibility": null,
            "width": null
          }
        },
        "8d752097abb84872a43cf7cdfdb8fc29": {
          "model_module": "@jupyter-widgets/controls",
          "model_name": "DescriptionStyleModel",
          "model_module_version": "1.5.0",
          "state": {
            "_model_module": "@jupyter-widgets/controls",
            "_model_module_version": "1.5.0",
            "_model_name": "DescriptionStyleModel",
            "_view_count": null,
            "_view_module": "@jupyter-widgets/base",
            "_view_module_version": "1.2.0",
            "_view_name": "StyleView",
            "description_width": ""
          }
        },
        "9c9d9c4e8e954a75bef2ec1e0771a4e8": {
          "model_module": "@jupyter-widgets/base",
          "model_name": "LayoutModel",
          "model_module_version": "1.2.0",
          "state": {
            "_model_module": "@jupyter-widgets/base",
            "_model_module_version": "1.2.0",
            "_model_name": "LayoutModel",
            "_view_count": null,
            "_view_module": "@jupyter-widgets/base",
            "_view_module_version": "1.2.0",
            "_view_name": "LayoutView",
            "align_content": null,
            "align_items": null,
            "align_self": null,
            "border": null,
            "bottom": null,
            "display": null,
            "flex": null,
            "flex_flow": null,
            "grid_area": null,
            "grid_auto_columns": null,
            "grid_auto_flow": null,
            "grid_auto_rows": null,
            "grid_column": null,
            "grid_gap": null,
            "grid_row": null,
            "grid_template_areas": null,
            "grid_template_columns": null,
            "grid_template_rows": null,
            "height": null,
            "justify_content": null,
            "justify_items": null,
            "left": null,
            "margin": null,
            "max_height": null,
            "max_width": null,
            "min_height": null,
            "min_width": null,
            "object_fit": null,
            "object_position": null,
            "order": null,
            "overflow": null,
            "overflow_x": null,
            "overflow_y": null,
            "padding": null,
            "right": null,
            "top": null,
            "visibility": null,
            "width": null
          }
        },
        "c74aed6aad7e4a93ad529a0420a35f5e": {
          "model_module": "@jupyter-widgets/controls",
          "model_name": "ProgressStyleModel",
          "model_module_version": "1.5.0",
          "state": {
            "_model_module": "@jupyter-widgets/controls",
            "_model_module_version": "1.5.0",
            "_model_name": "ProgressStyleModel",
            "_view_count": null,
            "_view_module": "@jupyter-widgets/base",
            "_view_module_version": "1.2.0",
            "_view_name": "StyleView",
            "bar_color": null,
            "description_width": ""
          }
        },
        "a0259cc9a38f491191ea5ca22e2e5d3c": {
          "model_module": "@jupyter-widgets/base",
          "model_name": "LayoutModel",
          "model_module_version": "1.2.0",
          "state": {
            "_model_module": "@jupyter-widgets/base",
            "_model_module_version": "1.2.0",
            "_model_name": "LayoutModel",
            "_view_count": null,
            "_view_module": "@jupyter-widgets/base",
            "_view_module_version": "1.2.0",
            "_view_name": "LayoutView",
            "align_content": null,
            "align_items": null,
            "align_self": null,
            "border": null,
            "bottom": null,
            "display": null,
            "flex": null,
            "flex_flow": null,
            "grid_area": null,
            "grid_auto_columns": null,
            "grid_auto_flow": null,
            "grid_auto_rows": null,
            "grid_column": null,
            "grid_gap": null,
            "grid_row": null,
            "grid_template_areas": null,
            "grid_template_columns": null,
            "grid_template_rows": null,
            "height": null,
            "justify_content": null,
            "justify_items": null,
            "left": null,
            "margin": null,
            "max_height": null,
            "max_width": null,
            "min_height": null,
            "min_width": null,
            "object_fit": null,
            "object_position": null,
            "order": null,
            "overflow": null,
            "overflow_x": null,
            "overflow_y": null,
            "padding": null,
            "right": null,
            "top": null,
            "visibility": null,
            "width": null
          }
        },
        "b0f619702ab7436482249402612c6bbe": {
          "model_module": "@jupyter-widgets/controls",
          "model_name": "DescriptionStyleModel",
          "model_module_version": "1.5.0",
          "state": {
            "_model_module": "@jupyter-widgets/controls",
            "_model_module_version": "1.5.0",
            "_model_name": "DescriptionStyleModel",
            "_view_count": null,
            "_view_module": "@jupyter-widgets/base",
            "_view_module_version": "1.2.0",
            "_view_name": "StyleView",
            "description_width": ""
          }
        },
        "a8be28fed022465c977b287846bdb1eb": {
          "model_module": "@jupyter-widgets/controls",
          "model_name": "HBoxModel",
          "model_module_version": "1.5.0",
          "state": {
            "_dom_classes": [],
            "_model_module": "@jupyter-widgets/controls",
            "_model_module_version": "1.5.0",
            "_model_name": "HBoxModel",
            "_view_count": null,
            "_view_module": "@jupyter-widgets/controls",
            "_view_module_version": "1.5.0",
            "_view_name": "HBoxView",
            "box_style": "",
            "children": [
              "IPY_MODEL_fd1df1080f824825879274f5f2a16bc7",
              "IPY_MODEL_fcb75528a932490ca35dcb02d34e4c56",
              "IPY_MODEL_4994fb8d67b946c6a1152cc65990c43b"
            ],
            "layout": "IPY_MODEL_66ba3b110ec84158bb448469967f4b9a"
          }
        },
        "fd1df1080f824825879274f5f2a16bc7": {
          "model_module": "@jupyter-widgets/controls",
          "model_name": "HTMLModel",
          "model_module_version": "1.5.0",
          "state": {
            "_dom_classes": [],
            "_model_module": "@jupyter-widgets/controls",
            "_model_module_version": "1.5.0",
            "_model_name": "HTMLModel",
            "_view_count": null,
            "_view_module": "@jupyter-widgets/controls",
            "_view_module_version": "1.5.0",
            "_view_name": "HTMLView",
            "description": "",
            "description_tooltip": null,
            "layout": "IPY_MODEL_483cffab0c404997abb8ee27b2340125",
            "placeholder": "​",
            "style": "IPY_MODEL_9ac1b89f8bc74d569f06bf36415f7b87",
            "value": "special_tokens_map.json: 100%"
          }
        },
        "fcb75528a932490ca35dcb02d34e4c56": {
          "model_module": "@jupyter-widgets/controls",
          "model_name": "FloatProgressModel",
          "model_module_version": "1.5.0",
          "state": {
            "_dom_classes": [],
            "_model_module": "@jupyter-widgets/controls",
            "_model_module_version": "1.5.0",
            "_model_name": "FloatProgressModel",
            "_view_count": null,
            "_view_module": "@jupyter-widgets/controls",
            "_view_module_version": "1.5.0",
            "_view_name": "ProgressView",
            "bar_style": "success",
            "description": "",
            "description_tooltip": null,
            "layout": "IPY_MODEL_e11c6002cc734a40b1b8afe1a292d0ba",
            "max": 112,
            "min": 0,
            "orientation": "horizontal",
            "style": "IPY_MODEL_f6349417f014424084cf2c92c50d301c",
            "value": 112
          }
        },
        "4994fb8d67b946c6a1152cc65990c43b": {
          "model_module": "@jupyter-widgets/controls",
          "model_name": "HTMLModel",
          "model_module_version": "1.5.0",
          "state": {
            "_dom_classes": [],
            "_model_module": "@jupyter-widgets/controls",
            "_model_module_version": "1.5.0",
            "_model_name": "HTMLModel",
            "_view_count": null,
            "_view_module": "@jupyter-widgets/controls",
            "_view_module_version": "1.5.0",
            "_view_name": "HTMLView",
            "description": "",
            "description_tooltip": null,
            "layout": "IPY_MODEL_4f26f902431542dabab37ba33cd9f768",
            "placeholder": "​",
            "style": "IPY_MODEL_d9319fba7dcb4368b49e4a87a1298dff",
            "value": " 112/112 [00:00&lt;00:00, 1.92kB/s]"
          }
        },
        "66ba3b110ec84158bb448469967f4b9a": {
          "model_module": "@jupyter-widgets/base",
          "model_name": "LayoutModel",
          "model_module_version": "1.2.0",
          "state": {
            "_model_module": "@jupyter-widgets/base",
            "_model_module_version": "1.2.0",
            "_model_name": "LayoutModel",
            "_view_count": null,
            "_view_module": "@jupyter-widgets/base",
            "_view_module_version": "1.2.0",
            "_view_name": "LayoutView",
            "align_content": null,
            "align_items": null,
            "align_self": null,
            "border": null,
            "bottom": null,
            "display": null,
            "flex": null,
            "flex_flow": null,
            "grid_area": null,
            "grid_auto_columns": null,
            "grid_auto_flow": null,
            "grid_auto_rows": null,
            "grid_column": null,
            "grid_gap": null,
            "grid_row": null,
            "grid_template_areas": null,
            "grid_template_columns": null,
            "grid_template_rows": null,
            "height": null,
            "justify_content": null,
            "justify_items": null,
            "left": null,
            "margin": null,
            "max_height": null,
            "max_width": null,
            "min_height": null,
            "min_width": null,
            "object_fit": null,
            "object_position": null,
            "order": null,
            "overflow": null,
            "overflow_x": null,
            "overflow_y": null,
            "padding": null,
            "right": null,
            "top": null,
            "visibility": null,
            "width": null
          }
        },
        "483cffab0c404997abb8ee27b2340125": {
          "model_module": "@jupyter-widgets/base",
          "model_name": "LayoutModel",
          "model_module_version": "1.2.0",
          "state": {
            "_model_module": "@jupyter-widgets/base",
            "_model_module_version": "1.2.0",
            "_model_name": "LayoutModel",
            "_view_count": null,
            "_view_module": "@jupyter-widgets/base",
            "_view_module_version": "1.2.0",
            "_view_name": "LayoutView",
            "align_content": null,
            "align_items": null,
            "align_self": null,
            "border": null,
            "bottom": null,
            "display": null,
            "flex": null,
            "flex_flow": null,
            "grid_area": null,
            "grid_auto_columns": null,
            "grid_auto_flow": null,
            "grid_auto_rows": null,
            "grid_column": null,
            "grid_gap": null,
            "grid_row": null,
            "grid_template_areas": null,
            "grid_template_columns": null,
            "grid_template_rows": null,
            "height": null,
            "justify_content": null,
            "justify_items": null,
            "left": null,
            "margin": null,
            "max_height": null,
            "max_width": null,
            "min_height": null,
            "min_width": null,
            "object_fit": null,
            "object_position": null,
            "order": null,
            "overflow": null,
            "overflow_x": null,
            "overflow_y": null,
            "padding": null,
            "right": null,
            "top": null,
            "visibility": null,
            "width": null
          }
        },
        "9ac1b89f8bc74d569f06bf36415f7b87": {
          "model_module": "@jupyter-widgets/controls",
          "model_name": "DescriptionStyleModel",
          "model_module_version": "1.5.0",
          "state": {
            "_model_module": "@jupyter-widgets/controls",
            "_model_module_version": "1.5.0",
            "_model_name": "DescriptionStyleModel",
            "_view_count": null,
            "_view_module": "@jupyter-widgets/base",
            "_view_module_version": "1.2.0",
            "_view_name": "StyleView",
            "description_width": ""
          }
        },
        "e11c6002cc734a40b1b8afe1a292d0ba": {
          "model_module": "@jupyter-widgets/base",
          "model_name": "LayoutModel",
          "model_module_version": "1.2.0",
          "state": {
            "_model_module": "@jupyter-widgets/base",
            "_model_module_version": "1.2.0",
            "_model_name": "LayoutModel",
            "_view_count": null,
            "_view_module": "@jupyter-widgets/base",
            "_view_module_version": "1.2.0",
            "_view_name": "LayoutView",
            "align_content": null,
            "align_items": null,
            "align_self": null,
            "border": null,
            "bottom": null,
            "display": null,
            "flex": null,
            "flex_flow": null,
            "grid_area": null,
            "grid_auto_columns": null,
            "grid_auto_flow": null,
            "grid_auto_rows": null,
            "grid_column": null,
            "grid_gap": null,
            "grid_row": null,
            "grid_template_areas": null,
            "grid_template_columns": null,
            "grid_template_rows": null,
            "height": null,
            "justify_content": null,
            "justify_items": null,
            "left": null,
            "margin": null,
            "max_height": null,
            "max_width": null,
            "min_height": null,
            "min_width": null,
            "object_fit": null,
            "object_position": null,
            "order": null,
            "overflow": null,
            "overflow_x": null,
            "overflow_y": null,
            "padding": null,
            "right": null,
            "top": null,
            "visibility": null,
            "width": null
          }
        },
        "f6349417f014424084cf2c92c50d301c": {
          "model_module": "@jupyter-widgets/controls",
          "model_name": "ProgressStyleModel",
          "model_module_version": "1.5.0",
          "state": {
            "_model_module": "@jupyter-widgets/controls",
            "_model_module_version": "1.5.0",
            "_model_name": "ProgressStyleModel",
            "_view_count": null,
            "_view_module": "@jupyter-widgets/base",
            "_view_module_version": "1.2.0",
            "_view_name": "StyleView",
            "bar_color": null,
            "description_width": ""
          }
        },
        "4f26f902431542dabab37ba33cd9f768": {
          "model_module": "@jupyter-widgets/base",
          "model_name": "LayoutModel",
          "model_module_version": "1.2.0",
          "state": {
            "_model_module": "@jupyter-widgets/base",
            "_model_module_version": "1.2.0",
            "_model_name": "LayoutModel",
            "_view_count": null,
            "_view_module": "@jupyter-widgets/base",
            "_view_module_version": "1.2.0",
            "_view_name": "LayoutView",
            "align_content": null,
            "align_items": null,
            "align_self": null,
            "border": null,
            "bottom": null,
            "display": null,
            "flex": null,
            "flex_flow": null,
            "grid_area": null,
            "grid_auto_columns": null,
            "grid_auto_flow": null,
            "grid_auto_rows": null,
            "grid_column": null,
            "grid_gap": null,
            "grid_row": null,
            "grid_template_areas": null,
            "grid_template_columns": null,
            "grid_template_rows": null,
            "height": null,
            "justify_content": null,
            "justify_items": null,
            "left": null,
            "margin": null,
            "max_height": null,
            "max_width": null,
            "min_height": null,
            "min_width": null,
            "object_fit": null,
            "object_position": null,
            "order": null,
            "overflow": null,
            "overflow_x": null,
            "overflow_y": null,
            "padding": null,
            "right": null,
            "top": null,
            "visibility": null,
            "width": null
          }
        },
        "d9319fba7dcb4368b49e4a87a1298dff": {
          "model_module": "@jupyter-widgets/controls",
          "model_name": "DescriptionStyleModel",
          "model_module_version": "1.5.0",
          "state": {
            "_model_module": "@jupyter-widgets/controls",
            "_model_module_version": "1.5.0",
            "_model_name": "DescriptionStyleModel",
            "_view_count": null,
            "_view_module": "@jupyter-widgets/base",
            "_view_module_version": "1.2.0",
            "_view_name": "StyleView",
            "description_width": ""
          }
        },
        "dc0027e0b4c74d06aac4e2d808b0950a": {
          "model_module": "@jupyter-widgets/controls",
          "model_name": "HBoxModel",
          "model_module_version": "1.5.0",
          "state": {
            "_dom_classes": [],
            "_model_module": "@jupyter-widgets/controls",
            "_model_module_version": "1.5.0",
            "_model_name": "HBoxModel",
            "_view_count": null,
            "_view_module": "@jupyter-widgets/controls",
            "_view_module_version": "1.5.0",
            "_view_name": "HBoxView",
            "box_style": "",
            "children": [
              "IPY_MODEL_f5bae56edbe04641a592c24e2982fcd4",
              "IPY_MODEL_db8a50ea14a044f8855cd7fdf0c38c06",
              "IPY_MODEL_e119112a2bb144c8809c71f9ede41665"
            ],
            "layout": "IPY_MODEL_2048103a44d744c4b5acb750974483e0"
          }
        },
        "f5bae56edbe04641a592c24e2982fcd4": {
          "model_module": "@jupyter-widgets/controls",
          "model_name": "HTMLModel",
          "model_module_version": "1.5.0",
          "state": {
            "_dom_classes": [],
            "_model_module": "@jupyter-widgets/controls",
            "_model_module_version": "1.5.0",
            "_model_name": "HTMLModel",
            "_view_count": null,
            "_view_module": "@jupyter-widgets/controls",
            "_view_module_version": "1.5.0",
            "_view_name": "HTMLView",
            "description": "",
            "description_tooltip": null,
            "layout": "IPY_MODEL_bd797415373b4cb78adff78b8da3242d",
            "placeholder": "​",
            "style": "IPY_MODEL_1728e76c21844d6585128e8779e5937f",
            "value": "config.json: 100%"
          }
        },
        "db8a50ea14a044f8855cd7fdf0c38c06": {
          "model_module": "@jupyter-widgets/controls",
          "model_name": "FloatProgressModel",
          "model_module_version": "1.5.0",
          "state": {
            "_dom_classes": [],
            "_model_module": "@jupyter-widgets/controls",
            "_model_module_version": "1.5.0",
            "_model_name": "FloatProgressModel",
            "_view_count": null,
            "_view_module": "@jupyter-widgets/controls",
            "_view_module_version": "1.5.0",
            "_view_name": "ProgressView",
            "bar_style": "success",
            "description": "",
            "description_tooltip": null,
            "layout": "IPY_MODEL_8df47f2b785e425f801ac2f86ae1e2aa",
            "max": 1534,
            "min": 0,
            "orientation": "horizontal",
            "style": "IPY_MODEL_1ff8a2fa3a7f47b4b551fecedf8fe077",
            "value": 1534
          }
        },
        "e119112a2bb144c8809c71f9ede41665": {
          "model_module": "@jupyter-widgets/controls",
          "model_name": "HTMLModel",
          "model_module_version": "1.5.0",
          "state": {
            "_dom_classes": [],
            "_model_module": "@jupyter-widgets/controls",
            "_model_module_version": "1.5.0",
            "_model_name": "HTMLModel",
            "_view_count": null,
            "_view_module": "@jupyter-widgets/controls",
            "_view_module_version": "1.5.0",
            "_view_name": "HTMLView",
            "description": "",
            "description_tooltip": null,
            "layout": "IPY_MODEL_b79fd897d61b409282a58ffca72bc3fa",
            "placeholder": "​",
            "style": "IPY_MODEL_b1bf9d8b444d48b08cf10764ef734716",
            "value": " 1.53k/1.53k [00:00&lt;00:00, 52.3kB/s]"
          }
        },
        "2048103a44d744c4b5acb750974483e0": {
          "model_module": "@jupyter-widgets/base",
          "model_name": "LayoutModel",
          "model_module_version": "1.2.0",
          "state": {
            "_model_module": "@jupyter-widgets/base",
            "_model_module_version": "1.2.0",
            "_model_name": "LayoutModel",
            "_view_count": null,
            "_view_module": "@jupyter-widgets/base",
            "_view_module_version": "1.2.0",
            "_view_name": "LayoutView",
            "align_content": null,
            "align_items": null,
            "align_self": null,
            "border": null,
            "bottom": null,
            "display": null,
            "flex": null,
            "flex_flow": null,
            "grid_area": null,
            "grid_auto_columns": null,
            "grid_auto_flow": null,
            "grid_auto_rows": null,
            "grid_column": null,
            "grid_gap": null,
            "grid_row": null,
            "grid_template_areas": null,
            "grid_template_columns": null,
            "grid_template_rows": null,
            "height": null,
            "justify_content": null,
            "justify_items": null,
            "left": null,
            "margin": null,
            "max_height": null,
            "max_width": null,
            "min_height": null,
            "min_width": null,
            "object_fit": null,
            "object_position": null,
            "order": null,
            "overflow": null,
            "overflow_x": null,
            "overflow_y": null,
            "padding": null,
            "right": null,
            "top": null,
            "visibility": null,
            "width": null
          }
        },
        "bd797415373b4cb78adff78b8da3242d": {
          "model_module": "@jupyter-widgets/base",
          "model_name": "LayoutModel",
          "model_module_version": "1.2.0",
          "state": {
            "_model_module": "@jupyter-widgets/base",
            "_model_module_version": "1.2.0",
            "_model_name": "LayoutModel",
            "_view_count": null,
            "_view_module": "@jupyter-widgets/base",
            "_view_module_version": "1.2.0",
            "_view_name": "LayoutView",
            "align_content": null,
            "align_items": null,
            "align_self": null,
            "border": null,
            "bottom": null,
            "display": null,
            "flex": null,
            "flex_flow": null,
            "grid_area": null,
            "grid_auto_columns": null,
            "grid_auto_flow": null,
            "grid_auto_rows": null,
            "grid_column": null,
            "grid_gap": null,
            "grid_row": null,
            "grid_template_areas": null,
            "grid_template_columns": null,
            "grid_template_rows": null,
            "height": null,
            "justify_content": null,
            "justify_items": null,
            "left": null,
            "margin": null,
            "max_height": null,
            "max_width": null,
            "min_height": null,
            "min_width": null,
            "object_fit": null,
            "object_position": null,
            "order": null,
            "overflow": null,
            "overflow_x": null,
            "overflow_y": null,
            "padding": null,
            "right": null,
            "top": null,
            "visibility": null,
            "width": null
          }
        },
        "1728e76c21844d6585128e8779e5937f": {
          "model_module": "@jupyter-widgets/controls",
          "model_name": "DescriptionStyleModel",
          "model_module_version": "1.5.0",
          "state": {
            "_model_module": "@jupyter-widgets/controls",
            "_model_module_version": "1.5.0",
            "_model_name": "DescriptionStyleModel",
            "_view_count": null,
            "_view_module": "@jupyter-widgets/base",
            "_view_module_version": "1.2.0",
            "_view_name": "StyleView",
            "description_width": ""
          }
        },
        "8df47f2b785e425f801ac2f86ae1e2aa": {
          "model_module": "@jupyter-widgets/base",
          "model_name": "LayoutModel",
          "model_module_version": "1.2.0",
          "state": {
            "_model_module": "@jupyter-widgets/base",
            "_model_module_version": "1.2.0",
            "_model_name": "LayoutModel",
            "_view_count": null,
            "_view_module": "@jupyter-widgets/base",
            "_view_module_version": "1.2.0",
            "_view_name": "LayoutView",
            "align_content": null,
            "align_items": null,
            "align_self": null,
            "border": null,
            "bottom": null,
            "display": null,
            "flex": null,
            "flex_flow": null,
            "grid_area": null,
            "grid_auto_columns": null,
            "grid_auto_flow": null,
            "grid_auto_rows": null,
            "grid_column": null,
            "grid_gap": null,
            "grid_row": null,
            "grid_template_areas": null,
            "grid_template_columns": null,
            "grid_template_rows": null,
            "height": null,
            "justify_content": null,
            "justify_items": null,
            "left": null,
            "margin": null,
            "max_height": null,
            "max_width": null,
            "min_height": null,
            "min_width": null,
            "object_fit": null,
            "object_position": null,
            "order": null,
            "overflow": null,
            "overflow_x": null,
            "overflow_y": null,
            "padding": null,
            "right": null,
            "top": null,
            "visibility": null,
            "width": null
          }
        },
        "1ff8a2fa3a7f47b4b551fecedf8fe077": {
          "model_module": "@jupyter-widgets/controls",
          "model_name": "ProgressStyleModel",
          "model_module_version": "1.5.0",
          "state": {
            "_model_module": "@jupyter-widgets/controls",
            "_model_module_version": "1.5.0",
            "_model_name": "ProgressStyleModel",
            "_view_count": null,
            "_view_module": "@jupyter-widgets/base",
            "_view_module_version": "1.2.0",
            "_view_name": "StyleView",
            "bar_color": null,
            "description_width": ""
          }
        },
        "b79fd897d61b409282a58ffca72bc3fa": {
          "model_module": "@jupyter-widgets/base",
          "model_name": "LayoutModel",
          "model_module_version": "1.2.0",
          "state": {
            "_model_module": "@jupyter-widgets/base",
            "_model_module_version": "1.2.0",
            "_model_name": "LayoutModel",
            "_view_count": null,
            "_view_module": "@jupyter-widgets/base",
            "_view_module_version": "1.2.0",
            "_view_name": "LayoutView",
            "align_content": null,
            "align_items": null,
            "align_self": null,
            "border": null,
            "bottom": null,
            "display": null,
            "flex": null,
            "flex_flow": null,
            "grid_area": null,
            "grid_auto_columns": null,
            "grid_auto_flow": null,
            "grid_auto_rows": null,
            "grid_column": null,
            "grid_gap": null,
            "grid_row": null,
            "grid_template_areas": null,
            "grid_template_columns": null,
            "grid_template_rows": null,
            "height": null,
            "justify_content": null,
            "justify_items": null,
            "left": null,
            "margin": null,
            "max_height": null,
            "max_width": null,
            "min_height": null,
            "min_width": null,
            "object_fit": null,
            "object_position": null,
            "order": null,
            "overflow": null,
            "overflow_x": null,
            "overflow_y": null,
            "padding": null,
            "right": null,
            "top": null,
            "visibility": null,
            "width": null
          }
        },
        "b1bf9d8b444d48b08cf10764ef734716": {
          "model_module": "@jupyter-widgets/controls",
          "model_name": "DescriptionStyleModel",
          "model_module_version": "1.5.0",
          "state": {
            "_model_module": "@jupyter-widgets/controls",
            "_model_module_version": "1.5.0",
            "_model_name": "DescriptionStyleModel",
            "_view_count": null,
            "_view_module": "@jupyter-widgets/base",
            "_view_module_version": "1.2.0",
            "_view_name": "StyleView",
            "description_width": ""
          }
        },
        "128a74ec967249f6b1ca758e6f22c879": {
          "model_module": "@jupyter-widgets/controls",
          "model_name": "HBoxModel",
          "model_module_version": "1.5.0",
          "state": {
            "_dom_classes": [],
            "_model_module": "@jupyter-widgets/controls",
            "_model_module_version": "1.5.0",
            "_model_name": "HBoxModel",
            "_view_count": null,
            "_view_module": "@jupyter-widgets/controls",
            "_view_module_version": "1.5.0",
            "_view_name": "HBoxView",
            "box_style": "",
            "children": [
              "IPY_MODEL_22f7b24c9e52434eaa531a6cc3c30052",
              "IPY_MODEL_c5d420a59a6e4706b720b5fafdda93c5",
              "IPY_MODEL_01a12ac3ab894284ab911e5776d83fb2"
            ],
            "layout": "IPY_MODEL_1840b92a7b2d4e6fa171730ce3ebd5f9"
          }
        },
        "22f7b24c9e52434eaa531a6cc3c30052": {
          "model_module": "@jupyter-widgets/controls",
          "model_name": "HTMLModel",
          "model_module_version": "1.5.0",
          "state": {
            "_dom_classes": [],
            "_model_module": "@jupyter-widgets/controls",
            "_model_module_version": "1.5.0",
            "_model_name": "HTMLModel",
            "_view_count": null,
            "_view_module": "@jupyter-widgets/controls",
            "_view_module_version": "1.5.0",
            "_view_name": "HTMLView",
            "description": "",
            "description_tooltip": null,
            "layout": "IPY_MODEL_7aae98ebb30348d395f322fc1aa9ba46",
            "placeholder": "​",
            "style": "IPY_MODEL_fa455990c1144f9a94dacd6ee1636f15",
            "value": "pytorch_model.bin: 100%"
          }
        },
        "c5d420a59a6e4706b720b5fafdda93c5": {
          "model_module": "@jupyter-widgets/controls",
          "model_name": "FloatProgressModel",
          "model_module_version": "1.5.0",
          "state": {
            "_dom_classes": [],
            "_model_module": "@jupyter-widgets/controls",
            "_model_module_version": "1.5.0",
            "_model_name": "FloatProgressModel",
            "_view_count": null,
            "_view_module": "@jupyter-widgets/controls",
            "_view_module_version": "1.5.0",
            "_view_name": "ProgressView",
            "bar_style": "success",
            "description": "",
            "description_tooltip": null,
            "layout": "IPY_MODEL_4bb2d5c081214c56b087d6b798ad4d6c",
            "max": 497810400,
            "min": 0,
            "orientation": "horizontal",
            "style": "IPY_MODEL_147d9674906a4575a2a5863f6adf13c7",
            "value": 497810400
          }
        },
        "01a12ac3ab894284ab911e5776d83fb2": {
          "model_module": "@jupyter-widgets/controls",
          "model_name": "HTMLModel",
          "model_module_version": "1.5.0",
          "state": {
            "_dom_classes": [],
            "_model_module": "@jupyter-widgets/controls",
            "_model_module_version": "1.5.0",
            "_model_name": "HTMLModel",
            "_view_count": null,
            "_view_module": "@jupyter-widgets/controls",
            "_view_module_version": "1.5.0",
            "_view_name": "HTMLView",
            "description": "",
            "description_tooltip": null,
            "layout": "IPY_MODEL_f68823aaac954c1aa69e9cebce44097c",
            "placeholder": "​",
            "style": "IPY_MODEL_eef945d825cf411ab67590112bebbc09",
            "value": " 498M/498M [00:03&lt;00:00, 203MB/s]"
          }
        },
        "1840b92a7b2d4e6fa171730ce3ebd5f9": {
          "model_module": "@jupyter-widgets/base",
          "model_name": "LayoutModel",
          "model_module_version": "1.2.0",
          "state": {
            "_model_module": "@jupyter-widgets/base",
            "_model_module_version": "1.2.0",
            "_model_name": "LayoutModel",
            "_view_count": null,
            "_view_module": "@jupyter-widgets/base",
            "_view_module_version": "1.2.0",
            "_view_name": "LayoutView",
            "align_content": null,
            "align_items": null,
            "align_self": null,
            "border": null,
            "bottom": null,
            "display": null,
            "flex": null,
            "flex_flow": null,
            "grid_area": null,
            "grid_auto_columns": null,
            "grid_auto_flow": null,
            "grid_auto_rows": null,
            "grid_column": null,
            "grid_gap": null,
            "grid_row": null,
            "grid_template_areas": null,
            "grid_template_columns": null,
            "grid_template_rows": null,
            "height": null,
            "justify_content": null,
            "justify_items": null,
            "left": null,
            "margin": null,
            "max_height": null,
            "max_width": null,
            "min_height": null,
            "min_width": null,
            "object_fit": null,
            "object_position": null,
            "order": null,
            "overflow": null,
            "overflow_x": null,
            "overflow_y": null,
            "padding": null,
            "right": null,
            "top": null,
            "visibility": null,
            "width": null
          }
        },
        "7aae98ebb30348d395f322fc1aa9ba46": {
          "model_module": "@jupyter-widgets/base",
          "model_name": "LayoutModel",
          "model_module_version": "1.2.0",
          "state": {
            "_model_module": "@jupyter-widgets/base",
            "_model_module_version": "1.2.0",
            "_model_name": "LayoutModel",
            "_view_count": null,
            "_view_module": "@jupyter-widgets/base",
            "_view_module_version": "1.2.0",
            "_view_name": "LayoutView",
            "align_content": null,
            "align_items": null,
            "align_self": null,
            "border": null,
            "bottom": null,
            "display": null,
            "flex": null,
            "flex_flow": null,
            "grid_area": null,
            "grid_auto_columns": null,
            "grid_auto_flow": null,
            "grid_auto_rows": null,
            "grid_column": null,
            "grid_gap": null,
            "grid_row": null,
            "grid_template_areas": null,
            "grid_template_columns": null,
            "grid_template_rows": null,
            "height": null,
            "justify_content": null,
            "justify_items": null,
            "left": null,
            "margin": null,
            "max_height": null,
            "max_width": null,
            "min_height": null,
            "min_width": null,
            "object_fit": null,
            "object_position": null,
            "order": null,
            "overflow": null,
            "overflow_x": null,
            "overflow_y": null,
            "padding": null,
            "right": null,
            "top": null,
            "visibility": null,
            "width": null
          }
        },
        "fa455990c1144f9a94dacd6ee1636f15": {
          "model_module": "@jupyter-widgets/controls",
          "model_name": "DescriptionStyleModel",
          "model_module_version": "1.5.0",
          "state": {
            "_model_module": "@jupyter-widgets/controls",
            "_model_module_version": "1.5.0",
            "_model_name": "DescriptionStyleModel",
            "_view_count": null,
            "_view_module": "@jupyter-widgets/base",
            "_view_module_version": "1.2.0",
            "_view_name": "StyleView",
            "description_width": ""
          }
        },
        "4bb2d5c081214c56b087d6b798ad4d6c": {
          "model_module": "@jupyter-widgets/base",
          "model_name": "LayoutModel",
          "model_module_version": "1.2.0",
          "state": {
            "_model_module": "@jupyter-widgets/base",
            "_model_module_version": "1.2.0",
            "_model_name": "LayoutModel",
            "_view_count": null,
            "_view_module": "@jupyter-widgets/base",
            "_view_module_version": "1.2.0",
            "_view_name": "LayoutView",
            "align_content": null,
            "align_items": null,
            "align_self": null,
            "border": null,
            "bottom": null,
            "display": null,
            "flex": null,
            "flex_flow": null,
            "grid_area": null,
            "grid_auto_columns": null,
            "grid_auto_flow": null,
            "grid_auto_rows": null,
            "grid_column": null,
            "grid_gap": null,
            "grid_row": null,
            "grid_template_areas": null,
            "grid_template_columns": null,
            "grid_template_rows": null,
            "height": null,
            "justify_content": null,
            "justify_items": null,
            "left": null,
            "margin": null,
            "max_height": null,
            "max_width": null,
            "min_height": null,
            "min_width": null,
            "object_fit": null,
            "object_position": null,
            "order": null,
            "overflow": null,
            "overflow_x": null,
            "overflow_y": null,
            "padding": null,
            "right": null,
            "top": null,
            "visibility": null,
            "width": null
          }
        },
        "147d9674906a4575a2a5863f6adf13c7": {
          "model_module": "@jupyter-widgets/controls",
          "model_name": "ProgressStyleModel",
          "model_module_version": "1.5.0",
          "state": {
            "_model_module": "@jupyter-widgets/controls",
            "_model_module_version": "1.5.0",
            "_model_name": "ProgressStyleModel",
            "_view_count": null,
            "_view_module": "@jupyter-widgets/base",
            "_view_module_version": "1.2.0",
            "_view_name": "StyleView",
            "bar_color": null,
            "description_width": ""
          }
        },
        "f68823aaac954c1aa69e9cebce44097c": {
          "model_module": "@jupyter-widgets/base",
          "model_name": "LayoutModel",
          "model_module_version": "1.2.0",
          "state": {
            "_model_module": "@jupyter-widgets/base",
            "_model_module_version": "1.2.0",
            "_model_name": "LayoutModel",
            "_view_count": null,
            "_view_module": "@jupyter-widgets/base",
            "_view_module_version": "1.2.0",
            "_view_name": "LayoutView",
            "align_content": null,
            "align_items": null,
            "align_self": null,
            "border": null,
            "bottom": null,
            "display": null,
            "flex": null,
            "flex_flow": null,
            "grid_area": null,
            "grid_auto_columns": null,
            "grid_auto_flow": null,
            "grid_auto_rows": null,
            "grid_column": null,
            "grid_gap": null,
            "grid_row": null,
            "grid_template_areas": null,
            "grid_template_columns": null,
            "grid_template_rows": null,
            "height": null,
            "justify_content": null,
            "justify_items": null,
            "left": null,
            "margin": null,
            "max_height": null,
            "max_width": null,
            "min_height": null,
            "min_width": null,
            "object_fit": null,
            "object_position": null,
            "order": null,
            "overflow": null,
            "overflow_x": null,
            "overflow_y": null,
            "padding": null,
            "right": null,
            "top": null,
            "visibility": null,
            "width": null
          }
        },
        "eef945d825cf411ab67590112bebbc09": {
          "model_module": "@jupyter-widgets/controls",
          "model_name": "DescriptionStyleModel",
          "model_module_version": "1.5.0",
          "state": {
            "_model_module": "@jupyter-widgets/controls",
            "_model_module_version": "1.5.0",
            "_model_name": "DescriptionStyleModel",
            "_view_count": null,
            "_view_module": "@jupyter-widgets/base",
            "_view_module_version": "1.2.0",
            "_view_name": "StyleView",
            "description_width": ""
          }
        }
      }
    }
  },
  "nbformat": 4,
  "nbformat_minor": 0
}